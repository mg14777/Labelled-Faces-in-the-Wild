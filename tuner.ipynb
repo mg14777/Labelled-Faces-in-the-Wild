{
 "cells": [
  {
   "cell_type": "markdown",
   "metadata": {
    "collapsed": true
   },
   "source": [
    "# Homework #3 "
   ]
  },
  {
   "cell_type": "markdown",
   "metadata": {},
   "source": [
    "Matriculation number: A0153347A\n",
    "Email: e0025553@nus.edu.sg"
   ]
  },
  {
   "cell_type": "markdown",
   "metadata": {},
   "source": [
    "### General Notes about this assignment \n",
    "\n",
    "Data:\n",
    "X_train.npy: training data numpy array. Each row in the array corresponds to an image unrolled to a vector (50 x 37 = 1850 dimension)\n",
    "\n",
    "y_train.npy: labels (0-6) of each data corresponding to the image in the same row in X_train.npy\n",
    "\n",
    "X_test.npy: testing data numpy array for evaluation of your models. The prediction outputs on this test data is to be submitted for scoreboard\n",
    "\n",
    "Ideas:\n",
    "- multiclass SVM (see Multiclass classification)\n",
    "- kNN with PCA \n",
    "- CNN  \n",
    "- Viola-Jones face detector\n"
   ]
  },
  {
   "cell_type": "markdown",
   "metadata": {},
   "source": [
    "### Files included with this submission\n",
    "\n",
    "In my submission there are this iPython notebook file for the code part and my pdf regarding the essay."
   ]
  },
  {
   "cell_type": "markdown",
   "metadata": {},
   "source": [
    "## Building and evaluating models"
   ]
  },
  {
   "cell_type": "code",
   "execution_count": null,
   "metadata": {
    "collapsed": false
   },
   "outputs": [],
   "source": [
    "import numpy as np\n",
    "import matplotlib.pyplot as pl\n",
    "import pandas as pd \n",
    "%matplotlib inline\n",
    "\n",
    "from sklearn import svm\n",
    "from sklearn.metrics import f1_score\n",
    "from sklearn.model_selection import cross_val_score\n",
    "from sklearn.model_selection import StratifiedKFold\n",
    "from sklearn.decomposition import PCA\n",
    "from time import time\n",
    "import os\n",
    "\n",
    "# Size the plot appropriately for online display\n",
    "pl.rcParams['figure.figsize'] = (12.0, 10.0)"
   ]
  },
  {
   "cell_type": "code",
   "execution_count": null,
   "metadata": {
    "collapsed": false
   },
   "outputs": [],
   "source": [
    "#Load dataset\n",
    "\n",
    "xin= np.load(\"./X_train.npy\")\n",
    "yin= np.load(\"./y_train.npy\")\n",
    "xout= np.load(\"./X_test.npy\")"
   ]
  },
  {
   "cell_type": "code",
   "execution_count": null,
   "metadata": {
    "collapsed": true
   },
   "outputs": [],
   "source": []
  },
  {
   "cell_type": "code",
   "execution_count": null,
   "metadata": {
    "collapsed": true
   },
   "outputs": [],
   "source": [
    "def dimReduction(n_components, X_train):\n",
    "\n",
    "    h= 50\n",
    "    w= 37\n",
    "    t0 = time()\n",
    "    print(\"Extracting the top %d eigenfaces from %d faces\"\n",
    "          % (n_components, X_train.shape[0]))\n",
    "    pca = PCA(n_components=n_components, svd_solver='randomized',\n",
    "              whiten=True).fit(X_train)\n",
    "\n",
    "    eigenfaces = pca.components_.reshape((n_components, h, w))\n",
    "\n",
    "    print(\"Projecting the input data on the eigenfaces orthonormal basis\")\n",
    "    X_pca = pca.transform(X_train)\n",
    "    print(\"done in %0.3fs\" % (time() - t0))\n",
    "    return X_pca"
   ]
  },
  {
   "cell_type": "code",
   "execution_count": null,
   "metadata": {
    "collapsed": true
   },
   "outputs": [],
   "source": [
    "def svmModel(ker, xin,yin, c, g, d, coef):\n",
    "    modelOVO= svm.SVC(decision_function_shape='ovo',kernel=ker, C=c, gamma=g, degree=d, coef0=coef)\n",
    "    modelOVO.fit(xin,yin)\n",
    "    modelOVR= svm.SVC(decision_function_shape='ovr',kernel=ker, C=c, gamma=g, degree=d, coef0=coef)\n",
    "    modelOVR.fit(xin,yin)\n",
    "    return (modelOVO,modelOVR)"
   ]
  },
  {
   "cell_type": "code",
   "execution_count": null,
   "metadata": {
    "collapsed": true
   },
   "outputs": [],
   "source": [
    "def svmPredict(model,x,y):\n",
    "    ypredict= model.predict(x)\n",
    "    score= f1_score(y , ypredict, average='weighted')\n",
    "    return score"
   ]
  },
  {
   "cell_type": "code",
   "execution_count": null,
   "metadata": {
    "collapsed": true
   },
   "outputs": [],
   "source": [
    "def createSubmission(filename, y):\n",
    "    fo = open( filename , 'w' )\n",
    "    fo.write(\"ImageId,PredictedClass\\n\")\n",
    "    for i in range(y.shape[0]):\n",
    "        fo.write(str(i)+\",\"+str(y[i])+\"\\n\")\n",
    "    fo.close()"
   ]
  },
  {
   "cell_type": "code",
   "execution_count": null,
   "metadata": {
    "collapsed": true
   },
   "outputs": [],
   "source": [
    "def clean(filename):\n",
    "    os.remove(filename)"
   ]
  },
  {
   "cell_type": "code",
   "execution_count": null,
   "metadata": {
    "collapsed": true
   },
   "outputs": [],
   "source": [
    "def appendFile(filename, text):\n",
    "    fo = open(filename, 'a')\n",
    "    fo.write(text)\n",
    "    fo.close()"
   ]
  },
  {
   "cell_type": "code",
   "execution_count": null,
   "metadata": {
    "collapsed": false
   },
   "outputs": [],
   "source": [
    "def evaluateModel(kern, C, gamma, degree, coef, xin, yin, xout, yout, filename):\n",
    "    modelO, modelR= svmModel(kern, xin, yin, C, gamma, degree, coef)\n",
    "    #print(kern + \" C = \"+str(C)+\" and gamma= \"+str(gamma))\n",
    "    appendFile(filename,\"Kernel= \"+ str(kern) + \" C = \"+str(C)+\" and gamma= \"+str(gamma)+ \n",
    "               \" degree= \"+str(degree)+\" coef= \"+ str(coef)+\"\\n\")\n",
    "    scoreO= svmPredict(modelO, xout, yout)\n",
    "    scoreR= svmPredict(modelR, xout, yout)\n",
    "    appendFile(filename, \"OVO model t1score: \"+str(scoreO)+\"\\n\")\n",
    "    appendFile(filename, \"OVO model t1 score: \"+str(scoreR)+\"\\n\"+\"\\n\")\n",
    "    return (scoreO,scoreR)"
   ]
  },
  {
   "cell_type": "code",
   "execution_count": null,
   "metadata": {
    "collapsed": false
   },
   "outputs": [],
   "source": [
    "def tuneParams(kernel, cost, gamma,degree, coef, dim, filename):\n",
    "\n",
    "    skf = StratifiedKFold(n_splits=4)\n",
    "    t0= time()\n",
    "    resultO= 0.0\n",
    "    resultR= 0.0\n",
    "    paramsO= ('null', 0.0,0.0, 0, 0, 0.0)\n",
    "    paramsR= ('null', 0.0,0.0, 0, 0, 0.0)\n",
    "    \n",
    "    for train, test in skf.split(xin, yin):\n",
    "        for k in range(len(kernel)):\n",
    "            for i in range(C.shape[0]):\n",
    "                for j in range(gamma.shape[0]):\n",
    "                    for t in range(degree.shape[0]):\n",
    "                        for s in range(coef.shape[0]):\n",
    "                            for h in range(dim.shape[0]):\n",
    "                                pca= PCA(n_components = dim[h])\n",
    "                                pca.fit(xin)\n",
    "                                xin_new= pca.transform(xin)\n",
    "                                tmp= evaluateModel(kernel[k],C[i],gamma[j], degree[t], coef[s], xin_new[train], yin[train], xin_new[test], yin[test], filename)\n",
    "                                if(resultO<tmp[0]):\n",
    "                                    resultO= tmp[0]\n",
    "                                    paramsO= (kernel[k], C[i], gamma[j], dim[h], degree[t], coef[s])\n",
    "                                if(resultR<tmp[1]):\n",
    "                                    resultR= tmp[1]\n",
    "                                    paramsR= (kernel[k], C[i], gamma[j], dim[h],degree[t], coef[s])\n",
    "                        \n",
    "    print(\"Best obtained for O: \"+str(resultO) + \" with \"+ str(paramsO))\n",
    "    print(\"Best obtained for R: \" +str(resultR) + \" with \" +str(paramsR))\n",
    "    print(\"Time \"+ str(time()-t0))\n",
    "    appendFile(filename,\"Best obtained for O: \"+str(resultO) + \" with \"+ str(paramsO)+\"\\n\")\n",
    "    appendFile(filename,\"Best obtained for R: \" +str(resultR) + \" with \" +str(paramsR)+\"\\n\")\n",
    "    appendFile(filename,\"Time \"+ str(time()-t0)+\"\\n\")"
   ]
  },
  {
   "cell_type": "code",
   "execution_count": null,
   "metadata": {
    "collapsed": false
   },
   "outputs": [],
   "source": [
    "C= np.array([1 , 0.1, 0.001, 0.0001])\n",
    "gamma= np.array([1, 0.1, 0.01, 0.001, 0.0001, 0.00001, 0.000001])\n",
    "kernel= ['linear', 'rbf', 'poly', 'sigmoid']\n",
    "dim= np.array([966, 400, 350, 250, 200, 150, 100, 50])\n",
    "degree= np.array([0, 1, 2, 3, 4, 5, 6])\n",
    "coef= np.array([0, 1, 10, 0.1, 0.01, 0.001, 0.0001, 0.00001])\n",
    "empty= np.array([1])"
   ]
  },
  {
   "cell_type": "code",
   "execution_count": null,
   "metadata": {
    "collapsed": false
   },
   "outputs": [],
   "source": [
    "clean(\"svmLinear.txt\")\n",
    "tuneParams([kernel[0]], C, gamma[0:1], empty, empty, dim, \"svmLinear.txt\")"
   ]
  },
  {
   "cell_type": "code",
   "execution_count": null,
   "metadata": {
    "collapsed": false
   },
   "outputs": [],
   "source": [
    "clean(\"svmRBF.txt\")\n",
    "tuneParams([kernel[1]], C, gamma, empty, empty, dim, \"svmRBF.txt\")"
   ]
  },
  {
   "cell_type": "code",
   "execution_count": null,
   "metadata": {
    "collapsed": false
   },
   "outputs": [],
   "source": [
    "clean(\"svmPoly.txt\")\n",
    "tuneParams([kernel[2]], C, gamma, degree, coef, dim, \"svmPoly.txt\")"
   ]
  },
  {
   "cell_type": "code",
   "execution_count": null,
   "metadata": {
    "collapsed": true
   },
   "outputs": [],
   "source": [
    "clean(\"svmSigmoid.txt\")\n",
    "tuneParams([kernel[3]], C, gamma, empty, coef, dim, \"svmSigmoid.txt\")"
   ]
  },
  {
   "cell_type": "markdown",
   "metadata": {},
   "source": [
    "## Statement of Individual Work\n",
    "\n",
    "Please initial (between the square brackets) one of the following statements.\n",
    "\n",
    "[FP] I, A0153447A , certify that I have followed the CS 3244 Machine Learning class guidelines for homework assignments.  In particular, I expressly vow that I have followed the Facebook rule in discussing with others in doing the assignment and did not take notes (digital or printed) from the discussions.  \n",
    "\n",
    "I suggest that I should be graded as follows:\n",
    "\n",
    "100 marks\n",
    "\n",
    "### References\n",
    "\n",
    "I have refered to the following list of people and websites in preparing my homework submission:\n",
    "\n",
    "http://docs.scipy.org/doc/numpy/reference/,\n",
    "http://stackoverflow.com/,\n",
    "http://matplotlib.org/api/pyplot_summary.html,\n",
    "Textbook: Learning From Data,\n",
    "Lecture's slides"
   ]
  }
 ],
 "metadata": {
  "anaconda-cloud": {},
  "kernelspec": {
   "display_name": "Python [default]",
   "language": "python",
   "name": "python3"
  },
  "language_info": {
   "codemirror_mode": {
    "name": "ipython",
    "version": 3
   },
   "file_extension": ".py",
   "mimetype": "text/x-python",
   "name": "python",
   "nbconvert_exporter": "python",
   "pygments_lexer": "ipython3",
   "version": "3.5.2"
  }
 },
 "nbformat": 4,
 "nbformat_minor": 0
}

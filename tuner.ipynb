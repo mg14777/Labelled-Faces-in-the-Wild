{
 "cells": [
  {
   "cell_type": "markdown",
   "metadata": {
    "collapsed": true
   },
   "source": [
    "# Homework #3 "
   ]
  },
  {
   "cell_type": "markdown",
   "metadata": {},
   "source": [
    "Matriculation number: A0153347A\n",
    "Email: e0025553@nus.edu.sg"
   ]
  },
  {
   "cell_type": "markdown",
   "metadata": {},
   "source": [
    "### General Notes about this assignment \n",
    "\n",
    "Data:\n",
    "X_train.npy: training data numpy array. Each row in the array corresponds to an image unrolled to a vector (50 x 37 = 1850 dimension)\n",
    "\n",
    "y_train.npy: labels (0-6) of each data corresponding to the image in the same row in X_train.npy\n",
    "\n",
    "X_test.npy: testing data numpy array for evaluation of your models. The prediction outputs on this test data is to be submitted for scoreboard\n",
    "\n",
    "Ideas:\n",
    "- multiclass SVM (see Multiclass classification)\n",
    "- kNN with PCA \n",
    "- CNN  \n",
    "- Viola-Jones face detector\n"
   ]
  },
  {
   "cell_type": "markdown",
   "metadata": {},
   "source": [
    "### Files included with this submission\n",
    "\n",
    "In my submission there are this iPython notebook file for the code part and my pdf regarding the essay."
   ]
  },
  {
   "cell_type": "markdown",
   "metadata": {},
   "source": [
    "## Building and evaluating models"
   ]
  },
  {
   "cell_type": "code",
   "execution_count": 9,
   "metadata": {
    "collapsed": false
   },
   "outputs": [],
   "source": [
    "import numpy as np\n",
    "import matplotlib.pyplot as pl\n",
    "import pandas as pd \n",
    "%matplotlib inline\n",
    "\n",
    "from sklearn import svm\n",
    "from sklearn.metrics import f1_score\n",
    "from sklearn.model_selection import cross_val_score\n",
    "from sklearn.model_selection import StratifiedKFold\n",
    "from sklearn.decomposition import PCA\n",
    "from time import time\n",
    "\n",
    "# Size the plot appropriately for online display\n",
    "pl.rcParams['figure.figsize'] = (12.0, 10.0)"
   ]
  },
  {
   "cell_type": "code",
   "execution_count": 10,
   "metadata": {
    "collapsed": false
   },
   "outputs": [],
   "source": [
    "#Load dataset\n",
    "\n",
    "#train data\n",
    "\n",
    "xin= np.load(\"./X_train.npy\")\n",
    "yin= np.load(\"./y_train.npy\")\n",
    "xout= np.load(\"./X_test.npy\")"
   ]
  },
  {
   "cell_type": "code",
   "execution_count": 11,
   "metadata": {
    "collapsed": true
   },
   "outputs": [],
   "source": [
    "def svmModel(ker, xin,yin, c, g):\n",
    "    modelOVO= svm.SVC(decision_function_shape='ovo',kernel=ker, C=c, gamma=g)\n",
    "    modelOVO.fit(xin,yin)\n",
    "    modelOVR= svm.SVC(decision_function_shape='ovr',kernel=ker, C=c, gamma=g)\n",
    "    modelOVR.fit(xin,yin)\n",
    "    return (modelOVO,modelOVR)"
   ]
  },
  {
   "cell_type": "code",
   "execution_count": 12,
   "metadata": {
    "collapsed": true
   },
   "outputs": [],
   "source": [
    "def svmPredict(model,x,y):\n",
    "    ypredict= model.predict(x)\n",
    "    score= f1_score(y , ypredict, average='macro');\n",
    "    return score"
   ]
  },
  {
   "cell_type": "code",
   "execution_count": 18,
   "metadata": {
    "collapsed": true
   },
   "outputs": [],
   "source": [
    "def createSubmission(filename, y):\n",
    "    fo = open( filename , 'w' )\n",
    "    fo.write(\"ImageId,PredictedClass\\n\")\n",
    "    for i in range(y.shape[0]):\n",
    "        fo.write(str(i)+\",\"+str(y[i])+\"\\n\")\n",
    "    fo.close()"
   ]
  },
  {
   "cell_type": "code",
   "execution_count": null,
   "metadata": {
    "collapsed": false
   },
   "outputs": [],
   "source": [
    "models= svmModel(xin,yin)\n",
    "scoreOVO= cross_val_score(models[0], xin, yin , cv = 2 , scoring='f1_macro')\n",
    "scoreOVR= cross_val_score(models[1], xin, yin , cv = 2, scoring='f1_macro')\n",
    "print(\"F1 score OVO (CV=5): \"+str(scoreOVO))\n",
    "print(\"F1 score OVR (CV=5): \"+str(scoreOVR))"
   ]
  },
  {
   "cell_type": "code",
   "execution_count": 6,
   "metadata": {
    "collapsed": false
   },
   "outputs": [],
   "source": [
    "def evaluateModel(kern, C, gamma, xin, yin, xout, yout):\n",
    "    modelO, modelR= svmModel(kern, xin, yin, C, gamma)\n",
    "    print(kern + \" C = \"+str(C)+\" and gamma= \"+str(gamma))\n",
    "    scoreO= svmPredict (modelO, xout, yout)\n",
    "    scoreR= svmPredict (modelR, xout, yout)\n",
    "    return (scoreO,scoreR)"
   ]
  },
  {
   "cell_type": "code",
   "execution_count": 7,
   "metadata": {
    "collapsed": false
   },
   "outputs": [],
   "source": [
    "def tuneParams(kernel, cost, gamma, dim):\n",
    "\n",
    "    skf = StratifiedKFold(n_splits=4)\n",
    "    t0= time()\n",
    "    resultO= 0.0\n",
    "    resultR= 0.0\n",
    "    paramsO= ('null', 0.0,0.0, 0)\n",
    "    paramsR= ('null', 0.0,0.0, 0)\n",
    "    \n",
    "    for train, test in skf.split(xin, yin):\n",
    "        for i in range(C.shape[0]):\n",
    "            for k in range(len(kernel)):\n",
    "                for j in range(gamma.shape[0]):\n",
    "                    for h in range(dim.shape[0]):\n",
    "                        pca= PCA(n_components = dim[h])\n",
    "                        pca.fit(xin)\n",
    "                        xin_new= pca.transform(xin)\n",
    "                        if(kernel[k]!='linear'):\n",
    "                            tmp= evaluateModel(kernel[k],C[i],gamma[j], xin_new[train], yin[train], xin_new[test], yin[test])\n",
    "                            if(resultO<tmp[0]):\n",
    "                                resultO= tmp[0]\n",
    "                                paramsO= (kernel[k], C[i], gamma[j], dim[h])\n",
    "                            if(resultR<tmp[1]):\n",
    "                                resultR= tmp[1]\n",
    "                                paramsR= (kernel[k], C[i], gamma[j], dim[h])\n",
    "                        else:\n",
    "                            tmp=evaluateModel(kernel[k],C[i],'auto', xin_new[train], yin[train], xin_new[test], yin[test])\n",
    "                            if(resultO<tmp[0]):\n",
    "                                resultO= tmp[0]\n",
    "                                paramsO= (kernel[k], C[i], 0, dim[h])\n",
    "                            if(resultR<tmp[1]):\n",
    "                                resultR= tmp[1]\n",
    "                                paramsR= (kernel[k], C[i], 0, dim[h])\n",
    "                        \n",
    "    print(\"Best obtained for O: \"+str(resultO) + \" with \"+ str(paramsO))\n",
    "    print(\"Best obtained for R: \" +str(resultR) + \" with \" +str(paramsR))\n",
    "    print(\"Time \"+ str(time()-t0))"
   ]
  },
  {
   "cell_type": "code",
   "execution_count": null,
   "metadata": {
    "collapsed": false
   },
   "outputs": [],
   "source": [
    "C= np.array([1 , 0.1, 0.001, 0.0001, 10])\n",
    "gamma= np.array([1, 0.1, 0.01, 0.001, 0.0001, 0.00004])\n",
    "kernel= ['linear', 'rbf']\n",
    "dim= np.array([966, 400, 350, 200, 100])\n",
    "\n",
    "tuneParams(kernel, C, gamma, dim)"
   ]
  },
  {
   "cell_type": "code",
   "execution_count": null,
   "metadata": {
    "collapsed": true
   },
   "outputs": [],
   "source": []
  },
  {
   "cell_type": "code",
   "execution_count": 8,
   "metadata": {
    "collapsed": false
   },
   "outputs": [
    {
     "name": "stdout",
     "output_type": "stream",
     "text": [
      "linear C = 1.0 and gamma= auto\n",
      "linear C = 1.0 and gamma= auto\n",
      "linear C = 1.0 and gamma= auto\n",
      "linear C = 1.0 and gamma= auto\n",
      "linear C = 0.1 and gamma= auto\n",
      "linear C = 0.1 and gamma= auto\n",
      "linear C = 0.1 and gamma= auto\n",
      "linear C = 0.1 and gamma= auto\n",
      "linear C = 0.001 and gamma= auto\n",
      "linear C = 0.001 and gamma= auto\n",
      "linear C = 0.001 and gamma= auto\n",
      "linear C = 0.001 and gamma= auto\n",
      "linear C = 0.0001 and gamma= auto\n",
      "linear C = 0.0001 and gamma= auto\n",
      "linear C = 0.0001 and gamma= auto\n",
      "linear C = 0.0001 and gamma= auto\n",
      "linear C = 10.0 and gamma= auto\n",
      "linear C = 10.0 and gamma= auto\n",
      "linear C = 10.0 and gamma= auto\n",
      "linear C = 10.0 and gamma= auto\n",
      "linear C = 1.0 and gamma= auto\n",
      "linear C = 1.0 and gamma= auto\n",
      "linear C = 1.0 and gamma= auto\n",
      "linear C = 1.0 and gamma= auto\n",
      "linear C = 0.1 and gamma= auto\n",
      "linear C = 0.1 and gamma= auto\n",
      "linear C = 0.1 and gamma= auto\n",
      "linear C = 0.1 and gamma= auto\n",
      "linear C = 0.001 and gamma= auto\n",
      "linear C = 0.001 and gamma= auto\n",
      "linear C = 0.001 and gamma= auto\n",
      "linear C = 0.001 and gamma= auto\n",
      "linear C = 0.0001 and gamma= auto\n",
      "linear C = 0.0001 and gamma= auto\n",
      "linear C = 0.0001 and gamma= auto\n",
      "linear C = 0.0001 and gamma= auto\n",
      "linear C = 10.0 and gamma= auto\n",
      "linear C = 10.0 and gamma= auto\n",
      "linear C = 10.0 and gamma= auto\n",
      "linear C = 10.0 and gamma= auto\n",
      "linear C = 1.0 and gamma= auto\n",
      "linear C = 1.0 and gamma= auto\n",
      "linear C = 1.0 and gamma= auto\n",
      "linear C = 1.0 and gamma= auto\n",
      "linear C = 0.1 and gamma= auto\n",
      "linear C = 0.1 and gamma= auto\n",
      "linear C = 0.1 and gamma= auto\n",
      "linear C = 0.1 and gamma= auto\n",
      "linear C = 0.001 and gamma= auto\n",
      "linear C = 0.001 and gamma= auto\n",
      "linear C = 0.001 and gamma= auto\n",
      "linear C = 0.001 and gamma= auto\n",
      "linear C = 0.0001 and gamma= auto\n",
      "linear C = 0.0001 and gamma= auto\n",
      "linear C = 0.0001 and gamma= auto\n",
      "linear C = 0.0001 and gamma= auto\n",
      "linear C = 10.0 and gamma= auto\n",
      "linear C = 10.0 and gamma= auto\n",
      "linear C = 10.0 and gamma= auto\n",
      "linear C = 10.0 and gamma= auto\n",
      "linear C = 1.0 and gamma= auto\n",
      "linear C = 1.0 and gamma= auto\n",
      "linear C = 1.0 and gamma= auto\n",
      "linear C = 1.0 and gamma= auto\n",
      "linear C = 0.1 and gamma= auto\n",
      "linear C = 0.1 and gamma= auto\n",
      "linear C = 0.1 and gamma= auto\n",
      "linear C = 0.1 and gamma= auto\n",
      "linear C = 0.001 and gamma= auto\n",
      "linear C = 0.001 and gamma= auto\n",
      "linear C = 0.001 and gamma= auto\n",
      "linear C = 0.001 and gamma= auto\n",
      "linear C = 0.0001 and gamma= auto\n",
      "linear C = 0.0001 and gamma= auto\n",
      "linear C = 0.0001 and gamma= auto\n",
      "linear C = 0.0001 and gamma= auto\n",
      "linear C = 10.0 and gamma= auto\n",
      "linear C = 10.0 and gamma= auto\n",
      "linear C = 10.0 and gamma= auto\n",
      "linear C = 10.0 and gamma= auto\n",
      "Best obtained for O: 0.791697309115 with ('linear', 1.0, 0, 200)\n",
      "Best obtained for R: 0.791697309115 with ('linear', 1.0, 0, 200)\n",
      "Time 65.12031412124634\n"
     ]
    }
   ],
   "source": [
    "C= np.array([1 , 0.1, 0.001, 0.0001, 10])\n",
    "gamma= np.array([1])\n",
    "kernel= ['linear']\n",
    "dim= np.array([400, 350, 200, 100])\n",
    "\n",
    "tuneParams(kernel, C, gamma, dim)"
   ]
  },
  {
   "cell_type": "code",
   "execution_count": 23,
   "metadata": {
    "collapsed": false
   },
   "outputs": [],
   "source": [
    "pca= PCA(n_components = 200)\n",
    "pca.fit(xin)\n",
    "xin_new= pca.transform(xin)\n",
    "(modelO,modelR)= svmModel ('linear', xin_new,yin ,1 , 'auto')\n",
    "\n",
    "pca= PCA(n_components = 200)\n",
    "pca.fit(xout)\n",
    "xout_new= pca.transform(xout)\n",
    "ypredict= modelO.predict(xout_new)\n",
    "createSubmission(\"submission1NEW.csv\", ypredict)"
   ]
  },
  {
   "cell_type": "markdown",
   "metadata": {},
   "source": [
    "## Statement of Individual Work\n",
    "\n",
    "Please initial (between the square brackets) one of the following statements.\n",
    "\n",
    "[FP] I, A0153447A , certify that I have followed the CS 3244 Machine Learning class guidelines for homework assignments.  In particular, I expressly vow that I have followed the Facebook rule in discussing with others in doing the assignment and did not take notes (digital or printed) from the discussions.  \n",
    "\n",
    "I suggest that I should be graded as follows:\n",
    "\n",
    "100 marks\n",
    "\n",
    "### References\n",
    "\n",
    "I have refered to the following list of people and websites in preparing my homework submission:\n",
    "\n",
    "http://docs.scipy.org/doc/numpy/reference/,\n",
    "http://stackoverflow.com/,\n",
    "http://matplotlib.org/api/pyplot_summary.html,\n",
    "Textbook: Learning From Data,\n",
    "Lecture's slides"
   ]
  }
 ],
 "metadata": {
  "anaconda-cloud": {},
  "kernelspec": {
   "display_name": "Python [default]",
   "language": "python",
   "name": "python3"
  },
  "language_info": {
   "codemirror_mode": {
    "name": "ipython",
    "version": 3
   },
   "file_extension": ".py",
   "mimetype": "text/x-python",
   "name": "python",
   "nbconvert_exporter": "python",
   "pygments_lexer": "ipython3",
   "version": "3.5.2"
  }
 },
 "nbformat": 4,
 "nbformat_minor": 0
}

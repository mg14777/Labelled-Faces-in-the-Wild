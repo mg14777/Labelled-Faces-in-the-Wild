{
 "cells": [
  {
   "cell_type": "code",
   "execution_count": 1,
   "metadata": {
    "collapsed": false
   },
   "outputs": [
    {
     "name": "stderr",
     "output_type": "stream",
     "text": [
      "Using Theano backend.\n"
     ]
    }
   ],
   "source": [
    "from keras.models import Model\n",
    "from keras.models import Sequential\n",
    "from keras.layers import Input, Dense, Dropout, Activation, Flatten\n",
    "from keras.optimizers import SGD\n",
    "from keras.optimizers import Adam\n",
    "from keras.layers.convolutional import Convolution2D\n",
    "from keras.layers.pooling import MaxPooling2D\n",
    "import numpy as np\n",
    "\n",
    "from sklearn.metrics import f1_score\n",
    "from sklearn.model_selection import cross_val_score\n",
    "from sklearn.model_selection import StratifiedKFold\n",
    "from sklearn.metrics import classification_report\n",
    "from sklearn.preprocessing import OneHotEncoder"
   ]
  },
  {
   "cell_type": "code",
   "execution_count": 2,
   "metadata": {
    "collapsed": false
   },
   "outputs": [
    {
     "name": "stdout",
     "output_type": "stream",
     "text": [
      "(966, 1850)\n",
      "(322, 1850)\n",
      "(966, 1, 50, 37)\n",
      "(322, 1, 50, 37)\n"
     ]
    }
   ],
   "source": [
    "#Load dataset\n",
    "\n",
    "#train data\n",
    "\n",
    "xin= np.load(\"./X_train.npy\")\n",
    "yin= np.reshape(np.load(\"./y_train.npy\"), (-1,1))\n",
    "xout= np.load(\"./X_test.npy\")\n",
    "\n",
    "img_xin = np.reshape(xin, (966,1,50,37), order='C')\n",
    "img_xout = np.reshape(xout, (322,1,50,37), order='C')\n",
    "print(xin.shape)\n",
    "print(xout.shape)\n",
    "print(img_xin.shape)\n",
    "print(img_xout.shape)\n",
    "enc = OneHotEncoder()\n",
    "enc.fit(yin)\n",
    "yin = enc.transform(yin).toarray()"
   ]
  },
  {
   "cell_type": "code",
   "execution_count": 3,
   "metadata": {
    "collapsed": true
   },
   "outputs": [],
   "source": [
    "# Helper functions\n",
    "def createSubmission(filename, y):\n",
    "    fo = open( filename , 'w' )\n",
    "    fo.write(\"ImageId,PredictedClass\\n\")\n",
    "    for i in range(y.shape[0]):\n",
    "        fo.write(str(i)+\",\"+str(y[i])+\"\\n\")\n",
    "    fo.close()\n",
    "\n",
    "def nnPredict(model,x, y):\n",
    "    ypredict= model.predict(x)\n",
    "    score= f1_score(y , ypredict, average='macro');\n",
    "    return score"
   ]
  },
  {
   "cell_type": "code",
   "execution_count": null,
   "metadata": {
    "collapsed": false
   },
   "outputs": [
    {
     "name": "stdout",
     "output_type": "stream",
     "text": [
      "Train on 483 samples, validate on 483 samples\n",
      "Epoch 1/100\n",
      "483/483 [==============================] - 7s - loss: 10.6420 - fbeta_score: 0.2578 - val_loss: 9.6266 - val_fbeta_score: 0.4017\n",
      "Epoch 2/100\n",
      "483/483 [==============================] - 7s - loss: 9.3528 - fbeta_score: 0.4058 - val_loss: 9.6442 - val_fbeta_score: 0.4017\n",
      "Epoch 3/100\n",
      "483/483 [==============================] - 7s - loss: 9.3310 - fbeta_score: 0.4161 - val_loss: 9.6442 - val_fbeta_score: 0.4017\n",
      "Epoch 4/100\n",
      "483/483 [==============================] - 8s - loss: 9.4095 - fbeta_score: 0.4099 - val_loss: 9.6442 - val_fbeta_score: 0.4017\n",
      "Epoch 5/100\n",
      "483/483 [==============================] - 8s - loss: 9.4552 - fbeta_score: 0.4099 - val_loss: 9.6442 - val_fbeta_score: 0.4017\n",
      "Epoch 6/100\n",
      "483/483 [==============================] - 7s - loss: 9.4106 - fbeta_score: 0.4161 - val_loss: 9.6442 - val_fbeta_score: 0.4017\n",
      "Epoch 7/100\n",
      "483/483 [==============================] - 8s - loss: 9.4106 - fbeta_score: 0.4161 - val_loss: 9.6442 - val_fbeta_score: 0.4017\n",
      "Epoch 8/100\n",
      "483/483 [==============================] - 8s - loss: 9.4130 - fbeta_score: 0.4141 - val_loss: 9.6442 - val_fbeta_score: 0.4017\n",
      "Epoch 9/100\n",
      "483/483 [==============================] - 8s - loss: 9.3801 - fbeta_score: 0.4161 - val_loss: 9.6442 - val_fbeta_score: 0.4017\n",
      "Epoch 10/100\n",
      "483/483 [==============================] - 7s - loss: 9.3794 - fbeta_score: 0.4161 - val_loss: 9.6442 - val_fbeta_score: 0.4017\n",
      "Epoch 11/100\n",
      "483/483 [==============================] - 7s - loss: 9.4106 - fbeta_score: 0.4161 - val_loss: 9.6442 - val_fbeta_score: 0.4017\n",
      "Epoch 12/100\n",
      "320/483 [==================>...........] - ETA: 1s - loss: 9.8866 - fbeta_score: 0.3844"
     ]
    }
   ],
   "source": [
    "model = Sequential()\n",
    "model.add(Convolution2D(32, 3, 3, border_mode='valid', input_shape=(1, 50, 37), activation='relu'))\n",
    "model.add(Convolution2D(32, 3, 3, border_mode='valid', activation='relu'))\n",
    "model.add(MaxPooling2D(pool_size=(2, 2)))\n",
    "model.add(Dropout(0.25))\n",
    "model.add(Convolution2D(64, 3, 3, border_mode='valid', activation='relu'))\n",
    "model.add(Convolution2D(64, 3, 3, border_mode='valid', activation='relu'))\n",
    "model.add(MaxPooling2D(pool_size=(2, 2)))\n",
    "model.add(Dropout(0.25))\n",
    "model.add(Flatten())\n",
    "model.add(Dense(128))\n",
    "model.add(Activation('relu'))\n",
    "model.add(Dropout(0.5))\n",
    "model.add(Dense(7))\n",
    "model.add(Activation('softmax'))\n",
    "\n",
    "adam = Adam(lr=0.0001, beta_1=0.9, beta_2=0.999, epsilon=1e-08, decay=0.0)\n",
    "# sgd = SGD(lr=0.001, decay=1e-6, momentum=0.9, nesterov=True)\n",
    "model.compile(loss='categorical_crossentropy',\n",
    "              optimizer=adam,\n",
    "              metrics=['fbeta_score'])\n",
    "\n",
    "model.fit(img_xin, yin, nb_epoch=100, batch_size=64, validation_split=0.5)"
   ]
  },
  {
   "cell_type": "code",
   "execution_count": 32,
   "metadata": {
    "collapsed": false
   },
   "outputs": [
    {
     "ename": "NameError",
     "evalue": "name 'score' is not defined",
     "output_type": "error",
     "traceback": [
      "\u001b[0;31m---------------------------------------------------------------------------\u001b[0m",
      "\u001b[0;31mNameError\u001b[0m                                 Traceback (most recent call last)",
      "\u001b[0;32m<ipython-input-32-41718d2fa6ac>\u001b[0m in \u001b[0;36m<module>\u001b[0;34m()\u001b[0m\n\u001b[0;32m----> 1\u001b[0;31m \u001b[0mprint\u001b[0m\u001b[0;34m(\u001b[0m\u001b[0mscore\u001b[0m\u001b[0;34m)\u001b[0m\u001b[0;34m\u001b[0m\u001b[0m\n\u001b[0m",
      "\u001b[0;31mNameError\u001b[0m: name 'score' is not defined"
     ]
    }
   ],
   "source": [
    "print(score)"
   ]
  },
  {
   "cell_type": "code",
   "execution_count": null,
   "metadata": {
    "collapsed": true
   },
   "outputs": [],
   "source": []
  }
 ],
 "metadata": {
  "anaconda-cloud": {},
  "kernelspec": {
   "display_name": "Python [conda env:hw3]",
   "language": "python",
   "name": "conda-env-hw3-py"
  },
  "language_info": {
   "codemirror_mode": {
    "name": "ipython",
    "version": 3
   },
   "file_extension": ".py",
   "mimetype": "text/x-python",
   "name": "python",
   "nbconvert_exporter": "python",
   "pygments_lexer": "ipython3",
   "version": "3.5.2"
  }
 },
 "nbformat": 4,
 "nbformat_minor": 0
}

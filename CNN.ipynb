{
 "cells": [
  {
   "cell_type": "code",
   "execution_count": 1,
   "metadata": {
    "collapsed": false
   },
   "outputs": [
    {
     "name": "stderr",
     "output_type": "stream",
     "text": [
      "Using Theano backend.\n"
     ]
    }
   ],
   "source": [
    "from keras.models import Model\n",
    "from keras.models import Sequential\n",
    "from keras.layers import Input, Dense, Dropout, Activation, Flatten\n",
    "from keras.optimizers import SGD\n",
    "from keras.optimizers import Adam\n",
    "from keras.layers.convolutional import Convolution2D\n",
    "from keras.layers.pooling import MaxPooling2D\n",
    "import numpy as np\n",
    "\n",
    "from sklearn.metrics import f1_score\n",
    "from sklearn.model_selection import cross_val_score\n",
    "from sklearn.model_selection import StratifiedKFold\n",
    "from sklearn.metrics import classification_report\n",
    "from sklearn.preprocessing import OneHotEncoder"
   ]
  },
  {
   "cell_type": "code",
   "execution_count": 2,
   "metadata": {
    "collapsed": false
   },
   "outputs": [
    {
     "name": "stdout",
     "output_type": "stream",
     "text": [
      "(966, 1850)\n",
      "(322, 1850)\n",
      "(966, 1, 50, 37)\n",
      "(322, 1, 50, 37)\n"
     ]
    }
   ],
   "source": [
    "#Load dataset\n",
    "\n",
    "#train data\n",
    "\n",
    "xin= np.load(\"./X_train.npy\")\n",
    "yin= np.reshape(np.load(\"./y_train.npy\"), (-1,1))\n",
    "xout= np.load(\"./X_test.npy\")\n",
    "\n",
    "img_xin = np.reshape(xin, (966,1,50,37), order='C')\n",
    "img_xout = np.reshape(xout, (322,1,50,37), order='C')\n",
    "print(xin.shape)\n",
    "print(xout.shape)\n",
    "print(img_xin.shape)\n",
    "print(img_xout.shape)\n",
    "enc = OneHotEncoder()\n",
    "enc.fit(yin)\n",
    "yin = enc.transform(yin).toarray()"
   ]
  },
  {
   "cell_type": "code",
   "execution_count": 3,
   "metadata": {
    "collapsed": true
   },
   "outputs": [],
   "source": [
    "# Helper functions\n",
    "def createSubmission(filename, y):\n",
    "    fo = open( filename , 'w' )\n",
    "    fo.write(\"ImageId,PredictedClass\\n\")\n",
    "    for i in range(y.shape[0]):\n",
    "        fo.write(str(i)+\",\"+str(y[i])+\"\\n\")\n",
    "    fo.close()\n",
    "\n",
    "def nnPredict(model,x, y):\n",
    "    ypredict= model.predict(x)\n",
    "    score= f1_score(y , ypredict, average='macro');\n",
    "    return score"
   ]
  },
  {
   "cell_type": "code",
   "execution_count": null,
   "metadata": {
    "collapsed": false
   },
   "outputs": [
    {
     "name": "stdout",
     "output_type": "stream",
     "text": [
      "Train on 483 samples, validate on 483 samples\n",
      "Epoch 1/200\n",
      "483/483 [==============================] - 12s - loss: 12.0377 - fbeta_score: 0.1555 - val_loss: 8.2673 - val_fbeta_score: 0.4037\n",
      "Epoch 2/200\n",
      "483/483 [==============================] - 11s - loss: 10.8247 - fbeta_score: 0.2388 - val_loss: 9.0976 - val_fbeta_score: 0.4017\n",
      "Epoch 3/200\n",
      "483/483 [==============================] - 10s - loss: 10.0659 - fbeta_score: 0.2798 - val_loss: 9.5278 - val_fbeta_score: 0.4017\n",
      "Epoch 4/200\n",
      "483/483 [==============================] - 10s - loss: 9.8158 - fbeta_score: 0.3171 - val_loss: 9.6288 - val_fbeta_score: 0.4017\n",
      "Epoch 5/200\n",
      "483/483 [==============================] - 10s - loss: 9.6588 - fbeta_score: 0.3499 - val_loss: 9.6425 - val_fbeta_score: 0.4017\n",
      "Epoch 6/200\n",
      "483/483 [==============================] - 11s - loss: 9.2865 - fbeta_score: 0.3793 - val_loss: 9.6442 - val_fbeta_score: 0.4017\n",
      "Epoch 7/200\n",
      " 64/483 [==>...........................] - ETA: 6s - loss: 10.2902 - fbeta_score: 0.3125"
     ]
    }
   ],
   "source": [
    "model = Sequential()\n",
    "model.add(Convolution2D(32, 3, 3, border_mode='valid', input_shape=(1, 50, 37), activation='relu'))\n",
    "model.add(Convolution2D(32, 3, 3, border_mode='valid', activation='relu'))\n",
    "model.add(MaxPooling2D(pool_size=(2, 2)))\n",
    "model.add(Dropout(0.25))\n",
    "model.add(Convolution2D(64, 3, 3, border_mode='valid', activation='relu'))\n",
    "model.add(Convolution2D(64, 3, 3, border_mode='valid', activation='relu'))\n",
    "model.add(MaxPooling2D(pool_size=(2, 2)))\n",
    "model.add(Dropout(0.25))\n",
    "model.add(Flatten())\n",
    "model.add(Dense(128))\n",
    "model.add(Activation('relu'))\n",
    "model.add(Dropout(0.5))\n",
    "model.add(Dense(7))\n",
    "model.add(Activation('softmax'))\n",
    "\n",
    "adam = Adam(lr=0.00001, beta_1=0.9, beta_2=0.999, epsilon=1e-08, decay=0.0)\n",
    "# sgd = SGD(lr=0.001, decay=1e-6, momentum=0.9, nesterov=True)\n",
    "model.compile(loss='categorical_crossentropy',\n",
    "              optimizer=adam,\n",
    "              metrics=['fbeta_score'])\n",
    "\n",
    "model.fit(img_xin, yin, nb_epoch=200, batch_size=64, validation_split=0.5)"
   ]
  },
  {
   "cell_type": "code",
   "execution_count": null,
   "metadata": {
    "collapsed": false
   },
   "outputs": [],
   "source": [
    "model.fit(img_xin, yin, nb_epoch=100, batch_size=64)"
   ]
  },
  {
   "cell_type": "code",
   "execution_count": null,
   "metadata": {
    "collapsed": false
   },
   "outputs": [],
   "source": [
    "y_pred = model.predict(img_xout, batch_size=64, verbose=1)\n"
   ]
  },
  {
   "cell_type": "code",
   "execution_count": null,
   "metadata": {
    "collapsed": false,
    "scrolled": true
   },
   "outputs": [],
   "source": [
    "# Convert from one-hot encoding to integer labels\n",
    "y_predicted = np.argmax(y_pred, axis=1)"
   ]
  },
  {
   "cell_type": "code",
   "execution_count": null,
   "metadata": {
    "collapsed": true
   },
   "outputs": [],
   "source": [
    "createSubmission(\"submission_cnn_10_31.csv\", y_predicted)"
   ]
  },
  {
   "cell_type": "code",
   "execution_count": null,
   "metadata": {
    "collapsed": true
   },
   "outputs": [],
   "source": []
  }
 ],
 "metadata": {
  "anaconda-cloud": {},
  "kernelspec": {
   "display_name": "Python [conda env:hw3]",
   "language": "python",
   "name": "conda-env-hw3-py"
  },
  "language_info": {
   "codemirror_mode": {
    "name": "ipython",
    "version": 3
   },
   "file_extension": ".py",
   "mimetype": "text/x-python",
   "name": "python",
   "nbconvert_exporter": "python",
   "pygments_lexer": "ipython3",
   "version": "3.5.2"
  }
 },
 "nbformat": 4,
 "nbformat_minor": 0
}

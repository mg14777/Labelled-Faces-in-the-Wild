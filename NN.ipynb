{
 "cells": [
  {
   "cell_type": "markdown",
   "metadata": {},
   "source": [
    "Homework #3\n"
   ]
  },
  {
   "cell_type": "markdown",
   "metadata": {},
   "source": [
    "### General Notes about this assignment \n",
    "\n",
    "Data:\n",
    "X_train.npy: training data numpy array. Each row in the array corresponds to an image unrolled to a vector (50 x 37 = 1850 dimension)\n",
    "\n",
    "y_train.npy: labels (0-6) of each data corresponding to the image in the same row in X_train.npy\n",
    "\n",
    "X_test.npy: testing data numpy array for evaluation of your models. The prediction outputs on this test data is to be submitted for scoreboard\n",
    "\n",
    "Ideas:\n",
    "- multiclass SVM (see Multiclass classification)\n",
    "- kNN with PCA \n",
    "- CNN  \n",
    "- Viola-Jones face detector"
   ]
  },
  {
   "cell_type": "markdown",
   "metadata": {},
   "source": [
    "## Building and evaluating models"
   ]
  },
  {
   "cell_type": "code",
   "execution_count": 13,
   "metadata": {
    "collapsed": false
   },
   "outputs": [],
   "source": [
    "import numpy as np\n",
    "import matplotlib.pyplot as pl\n",
    "import pandas as pd \n",
    "%matplotlib inline\n",
    "# np.set_printoptions(threshold=np.inf)\n",
    "\n",
    "import sklearn\n",
    "from sklearn.neural_network import MLPClassifier\n",
    "from sklearn.metrics import f1_score\n",
    "from sklearn.model_selection import train_test_split\n",
    "from sklearn.model_selection import GridSearchCV\n",
    "from sklearn.model_selection import cross_val_score\n",
    "from sklearn.model_selection import StratifiedKFold\n",
    "from sklearn.metrics import classification_report\n",
    "# from sklearn.decomposition import PCA\n",
    "from scipy.stats import zscore\n",
    "from scipy import stats\n",
    "from time import time\n",
    "# Size the plot appropriately for online display\n",
    "pl.rcParams['figure.figsize'] = (12.0, 10.0)"
   ]
  },
  {
   "cell_type": "code",
   "execution_count": 2,
   "metadata": {
    "collapsed": true
   },
   "outputs": [],
   "source": [
    "\"\"\" PLEASE CHANGE THIS!!!! \"\"\"\n",
    "HIDDEN_LAYERS = (1851,)\n",
    "# HIDDEN_LAYERS = (1851, 400,)\n",
    "# HIDDEN_LAYERS = (1851, 400, 20,)"
   ]
  },
  {
   "cell_type": "code",
   "execution_count": 3,
   "metadata": {
    "collapsed": false
   },
   "outputs": [],
   "source": [
    "#Load dataset\n",
    "\n",
    "#train data\n",
    "\n",
    "xin= np.load(\"./X_train.npy\")\n",
    "yin= np.load(\"./y_train.npy\")\n",
    "xout= np.load(\"./X_test.npy\")\n"
   ]
  },
  {
   "cell_type": "code",
   "execution_count": 4,
   "metadata": {
    "collapsed": true
   },
   "outputs": [],
   "source": [
    "# Helper functions\n",
    "def createSubmission(filename, y):\n",
    "    fo = open( filename , 'w' )\n",
    "    fo.write(\"ImageId,PredictedClass\\n\")\n",
    "    for i in range(y.shape[0]):\n",
    "        fo.write(str(i)+\",\"+str(y[i])+\"\\n\")\n",
    "    fo.close()\n",
    "\n",
    "def nnPredict(model,x, y):\n",
    "    ypredict= model.predict(x)\n",
    "    score= f1_score(y , ypredict, average='macro');\n",
    "    return score\n",
    "\n",
    "#scale data\n",
    "def normalize(x):\n",
    "    r=zscore(x, axis=0)\n",
    "    return r"
   ]
  },
  {
   "cell_type": "code",
   "execution_count": 5,
   "metadata": {
    "collapsed": false
   },
   "outputs": [],
   "source": [
    "# Rescale features to have mean 0 and variance 1\n",
    "xin = normalize(xin)\n",
    "xout = normalize(xout)"
   ]
  },
  {
   "cell_type": "code",
   "execution_count": 5,
   "metadata": {
    "collapsed": true
   },
   "outputs": [],
   "source": [
    "def buildModel(param_grid, x, y):\n",
    "    t0 = time()\n",
    "    print(\"Fitting the classifier to the training set\")\n",
    "    model = GridSearchCV(MLPClassifier(hidden_layer_sizes=HIDDEN_LAYERS,\n",
    "                                       activation='logistic',\n",
    "                                       solver='lbfgs',\n",
    "                                       verbose=True,\n",
    "                                       max_iter=1000*len(HIDDEN_LAYERS) + 2000,\n",
    "                                       learning_rate_init=0.001\n",
    "                                      ),\n",
    "            param_grid, cv=StratifiedKFold(n_splits=3),\n",
    "            n_jobs=-1, scoring='f1_macro')\n",
    "    model = model.fit(x, y)\n",
    "    \n",
    "    print(\"done in %0.3fs\" % (time() - t0))\n",
    "    print(\"Best score found by grid search:\")\n",
    "    print(model.best_score_)\n",
    "    print(\"Best params found by grid search:\")\n",
    "    print(model.best_params_)\n",
    "    print(\"\\n\")\n",
    "    import json\n",
    "    with open('./buildModelResults.json', 'w') as f:\n",
    "        f.write(str(model.cv_results_))\n",
    "    return model"
   ]
  },
  {
   "cell_type": "code",
   "execution_count": 6,
   "metadata": {
    "collapsed": false
   },
   "outputs": [
    {
     "name": "stdout",
     "output_type": "stream",
     "text": [
      "Fitting the classifier to the training set\n",
      "done in 28078.360s\n",
      "Best score found by grid search:\n",
      "0.810910991502\n",
      "Best params found by grid search:\n",
      "{'alpha': 5}\n",
      "\n",
      "\n"
     ]
    }
   ],
   "source": [
    "params={\n",
    "        'alpha' : [5, 8, 10, 100]\n",
    "        }\n",
    "bestModel = buildModel(params, xin, yin)"
   ]
  },
  {
   "cell_type": "code",
   "execution_count": 10,
   "metadata": {
    "collapsed": false
   },
   "outputs": [
    {
     "name": "stdout",
     "output_type": "stream",
     "text": [
      "Detailed classification report:\n",
      "\n",
      "             precision    recall  f1-score   support\n",
      "\n",
      "          0       0.71      0.58      0.64        26\n",
      "          1       0.80      0.90      0.85        92\n",
      "          2       0.82      0.74      0.78        43\n",
      "          3       0.88      0.91      0.90       198\n",
      "          4       0.77      0.70      0.73        43\n",
      "          5       0.85      0.73      0.79        30\n",
      "          6       0.85      0.83      0.84        53\n",
      "\n",
      "avg / total       0.84      0.84      0.83       485\n",
      "\n",
      "\n",
      "Detailed classification report:\n",
      "\n",
      "             precision    recall  f1-score   support\n",
      "\n",
      "          0       0.72      0.52      0.60        25\n",
      "          1       0.82      0.82      0.82        91\n",
      "          2       0.78      0.67      0.72        42\n",
      "          3       0.83      0.90      0.86       197\n",
      "          4       0.79      0.70      0.74        43\n",
      "          5       0.86      0.83      0.85        30\n",
      "          6       0.72      0.74      0.73        53\n",
      "\n",
      "avg / total       0.80      0.80      0.80       481\n",
      "\n",
      "\n"
     ]
    }
   ],
   "source": [
    "# Obtain the best parameters from the GridSearch\n",
    "nn = MLPClassifier(hidden_layer_sizes=HIDDEN_LAYERS,\n",
    "                   activation='logistic', \n",
    "                   solver='lbfgs', \n",
    "                   alpha=5,\n",
    "                   verbose=True,\n",
    "                   max_iter=2000\n",
    "                  )\n",
    "\n",
    "# Split the train and test\n",
    "skf = StratifiedKFold(n_splits=2)\n",
    "for train, test in skf.split(xin, yin):\n",
    "    X_train = xin[train]\n",
    "    y_train = yin[train]\n",
    "    X_test  = xin[test]\n",
    "    y_test  = yin[test]\n",
    "    nn.fit(X_train, y_train)\n",
    "    y_pred = nn.predict(X_test)\n",
    "    print(\"Detailed classification report:\")\n",
    "    print()\n",
    "    print(classification_report(y_test, y_pred))\n",
    "    print()"
   ]
  },
  {
   "cell_type": "code",
   "execution_count": 12,
   "metadata": {
    "collapsed": false
   },
   "outputs": [],
   "source": [
    "# Train the NN on all training data\n",
    "# nn.fit(xin, yin)\n",
    "\n",
    "\"\"\"PLEASE CHANGE THIS\"\"\"\n",
    "NEURAL_NETWORK_ARCH = len(HIDDEN_LAYERS) # Number of hidden layers\n",
    "DATE = '10_28'\n",
    "\n",
    "# Run the trained neural network on the test set and write results to a csv file\n",
    "filename = './submission_nn_' + DATE + '_' + str(NEURAL_NETWORK_ARCH) + '.csv'\n",
    "y_out = nn.predict(xout)\n",
    "createSubmission(filename, y_out)"
   ]
  },
  {
   "cell_type": "code",
   "execution_count": null,
   "metadata": {
    "collapsed": true
   },
   "outputs": [],
   "source": []
  }
 ],
 "metadata": {
  "anaconda-cloud": {},
  "kernelspec": {
   "display_name": "Python [Root]",
   "language": "python",
   "name": "Python [Root]"
  },
  "language_info": {
   "codemirror_mode": {
    "name": "ipython",
    "version": 3
   },
   "file_extension": ".py",
   "mimetype": "text/x-python",
   "name": "python",
   "nbconvert_exporter": "python",
   "pygments_lexer": "ipython3",
   "version": "3.5.2"
  }
 },
 "nbformat": 4,
 "nbformat_minor": 0
}

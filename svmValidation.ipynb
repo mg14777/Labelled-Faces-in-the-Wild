{
 "cells": [
  {
   "cell_type": "code",
   "execution_count": 1,
   "metadata": {
    "collapsed": false
   },
   "outputs": [],
   "source": [
    "import numpy as np\n",
    "from time import time\n",
    "import matplotlib.pyplot as plt\n",
    "from sklearn.model_selection import GridSearchCV\n",
    "from sklearn.metrics import confusion_matrix\n",
    "from sklearn.decomposition import PCA\n",
    "from scipy.stats import itemfreq\n",
    "from sklearn.svm import SVC\n",
    "from sklearn.metrics import f1_score\n",
    "from sklearn.model_selection import StratifiedKFold\n",
    "from sklearn.feature_selection import SelectKBest, chi2, f_classif\n",
    "from scipy.stats.mstats import zscore\n",
    "#Warnings imported to avoid verbose warnings when the f1 score is ill-defined during the gridsearch\n",
    "import warnings\n",
    "warnings.filterwarnings('ignore')"
   ]
  },
  {
   "cell_type": "code",
   "execution_count": 2,
   "metadata": {
    "collapsed": false
   },
   "outputs": [],
   "source": [
    "#Load dataset\n",
    "\n",
    "xin= np.load(\"./X_train.npy\")\n",
    "yin= np.load(\"./y_train.npy\")\n",
    "xout= np.load(\"./X_test.npy\")"
   ]
  },
  {
   "cell_type": "code",
   "execution_count": 3,
   "metadata": {
    "collapsed": false
   },
   "outputs": [
    {
     "data": {
      "image/png": "[encoded data removed]",
      "text/plain": [
       "<matplotlib.figure.Figure at 0x1f0bdbea550>"
      ]
     },
     "metadata": {},
     "output_type": "display_data"
    }
   ],
   "source": [
    "#Elbow analysis for see on how many dimensions to reduce\n",
    "n_components= 966\n",
    "\n",
    "pca = PCA(n_components=n_components, svd_solver='auto',\n",
    "              whiten=True).fit(xin)\n",
    "\n",
    "X_pca = pca.transform(xin)\n",
    "\n",
    "y=pca.explained_variance_ratio_\n",
    "\n",
    "x = np.arange(0, n_components) \n",
    "plt.scatter(x, y, alpha=0.5)\n",
    "plt.show()"
   ]
  },
  {
   "cell_type": "code",
   "execution_count": null,
   "metadata": {
    "collapsed": true
   },
   "outputs": [],
   "source": [
    "#By doing a elbow analysis on the plot above, it seems the optimal number of features is around these values:\n",
    "\n",
    "dims=[80, 100, 150, 200]"
   ]
  },
  {
   "cell_type": "code",
   "execution_count": 4,
   "metadata": {
    "collapsed": false
   },
   "outputs": [],
   "source": [
    "#Apply dimensionality reduction with PCA\n",
    "def dimReduction(n_components, X_train):\n",
    "\n",
    "    h= 50\n",
    "    w= 37\n",
    "    t0 = time()\n",
    "    print(\"Extracting the top %d features from all the %d features\"\n",
    "          % (n_components, X_train.shape[0]))\n",
    "    pca = PCA(n_components=n_components, svd_solver='auto',\n",
    "              whiten=True).fit(X_train)\n",
    "\n",
    "    eigenfaces = pca.components_.reshape((n_components, h, w))\n",
    "\n",
    "    print(\"Projecting the input data on the orthonormal basis\")\n",
    "    X_pca = pca.transform(X_train)\n",
    "    print(\"Done in %0.3fs\" % (time() - t0))\n",
    "    return X_pca"
   ]
  },
  {
   "cell_type": "code",
   "execution_count": 5,
   "metadata": {
    "collapsed": false
   },
   "outputs": [],
   "source": [
    "#Facing the unbalace of the dataset by setting the \n",
    "freq= itemfreq(yin)\n",
    "tot= np.sum(freq[:,1])\n",
    "sample_weight=(1-(np.sinh(freq[:,1]/(tot)))) \n",
    "sample_weight = sample_weight / float(max(sample_weight))\n",
    "\n",
    "w2= 1.5 - freq[:,1]/max(freq[:,1])\n",
    "w3= w2/np.sum(w2)\n",
    "\n",
    "dic3= {0: w3[0],\n",
    "      1: w3[1],\n",
    "      2: w3[2],\n",
    "      3: w3[3],\n",
    "      4: w3[4],\n",
    "      5: w3[5],\n",
    "      6: w3[6],\n",
    "     }"
   ]
  },
  {
   "cell_type": "code",
   "execution_count": 6,
   "metadata": {
    "collapsed": false
   },
   "outputs": [],
   "source": [
    "#Build and evalutate model using the different params provided by params_grid\n",
    "def buildModel(param_grid, dim, x, y):\n",
    "    t0 = time()\n",
    "    x_n= dimReduction(dim, x)\n",
    "    print(\"Fitting the classifier to the training set\")\n",
    "    model = GridSearchCV(SVC(decision_function_shape='ovr'),\n",
    "            param_grid, cv=StratifiedKFold(n_splits=10),\n",
    "            n_jobs=-1, scoring='f1_macro')\n",
    "    model = model.fit(x_n, y)\n",
    "    \n",
    "    print(\"done in %0.3fs\" % (time() - t0))\n",
    "    print(\"DIMENSIONS:\")\n",
    "    print(dim)\n",
    "    print(\"ker:\")\n",
    "    print(ker)\n",
    "    print(\"Best estimator found by grid search:\")\n",
    "    print(model.best_estimator_)\n",
    "    print(\"Best score found by grid search:\")\n",
    "    print(model.best_score_)\n",
    "    print(\"Best params found by grid search:\")\n",
    "    print(model.best_params_)\n",
    "    print(\"\\n\")\n",
    "    return model"
   ]
  },
  {
   "cell_type": "code",
   "execution_count": 7,
   "metadata": {
    "collapsed": true
   },
   "outputs": [],
   "source": [
    "#Helper function testing further the model using the confusion matrix\n",
    "def predict(model, x, y):\n",
    "    t0 = time()\n",
    "    print(\"Predicting on the test set\")\n",
    "    y_pred = model.predict(x)\n",
    "    print(\"done in %0.3fs\" % (time() - t0))\n",
    "    print(confusion_matrix(y, y_pred))\n",
    "    score= f1_score(y, y_pred, average='weighted')\n",
    "    return score"
   ]
  },
  {
   "cell_type": "code",
   "execution_count": null,
   "metadata": {
    "collapsed": false
   },
   "outputs": [],
   "source": [
    "#GridsearchCV for rbf kernel with differents params\n",
    "a=2\n",
    "expC= np.arange(-5.,17.)\n",
    "c=np.power(a, expC)\n",
    "\n",
    "expG= np.arange(-15.,4.)\n",
    "\n",
    "gam=np.power(a, expG)\n",
    "\n",
    "\n",
    "param_grid = {'C': c,\n",
    "              'gamma': gam,\n",
    "              'kernel':['rbf'],\n",
    "              'class_weight': ['balanced', dic3]\n",
    "             }\n",
    "\n",
    "result=0.0\n",
    "\n",
    "for i in range(len(dims)):\n",
    "    model= buildModel(param_grid, dims[i], xin, yin)\n",
    "    tmp= model.best_score_\n",
    "    if(tmp > result):\n",
    "        result=  tmp\n",
    "        params= model.best_params_\n",
    "        d= dims[i]\n",
    "\n",
    "print(\"\\n\")\n",
    "print(\"Best: \")\n",
    "print(result)\n",
    "print(\"params:\")\n",
    "print(params)\n",
    "print(\"dim\")\n",
    "print(d)"
   ]
  },
  {
   "cell_type": "code",
   "execution_count": null,
   "metadata": {
    "collapsed": false
   },
   "outputs": [],
   "source": [
    "#GridsearchCV for linear kernel with different params\n",
    "a=2\n",
    "expC= np.arange(-5.,17.)\n",
    "c=np.power(a, expC)\n",
    "\n",
    "param_grid = {'C': c,\n",
    "              'kernel':['linear'],\n",
    "              'class_weight': [dic3, balanced]\n",
    "             }\n",
    "\n",
    "result=0.0\n",
    "\n",
    "for i in range(len(dims)):\n",
    "    model= buildModel(param_grid, dims[i], xin, yin)\n",
    "    tmp= model.best_score_\n",
    "    if(tmp > result):\n",
    "        result=  tmp\n",
    "        params= model.best_params_\n",
    "        d= dims[i]\n",
    "\n",
    "print(\"\\n\")\n",
    "print(\"Best: \")\n",
    "print(result)\n",
    "print(\"params:\")\n",
    "print(params)\n",
    "print(\"dim\")\n",
    "print(d)"
   ]
  },
  {
   "cell_type": "code",
   "execution_count": 8,
   "metadata": {
    "collapsed": true
   },
   "outputs": [],
   "source": [
    "#Using square test, for features extraction, not deeply used\n",
    "def chisq(xin, yin, k):\n",
    "    \n",
    "    x_new = SelectKBest(f_classif, k=k).fit_transform(xin,yin)\n",
    "    \n",
    "    return x_new"
   ]
  },
  {
   "cell_type": "code",
   "execution_count": 9,
   "metadata": {
    "collapsed": true
   },
   "outputs": [],
   "source": [
    "def modChi(ker, param_grid, k, x, y):\n",
    "    t0 = time()\n",
    "    xin= chisq(x,y,k)\n",
    "    print(\"Fitting the classifier to the training set\")\n",
    "    model = GridSearchCV(SVC(kernel=ker, class_weight='balanced', decision_function_shape='ovr'), param_grid, cv=5, scoring='f1_micro')\n",
    "    model = model.fit(xin, y)\n",
    "    \n",
    "    print(\"done in %0.3fs\" % (time() - t0))\n",
    "    print(\"DIMENSIONS:\")\n",
    "    print(k)\n",
    "    print(\"ker:\")\n",
    "    print(ker)\n",
    "    print(\"Best estimator found by grid search:\")\n",
    "    print(model.best_estimator_)\n",
    "    print(\"Best score found by grid search:\")\n",
    "    print(model.best_score_)\n",
    "    print(\"Best params found by grid search:\")\n",
    "    print(model.best_params_)\n",
    "    print(\"\\n\")\n",
    "    return model"
   ]
  },
  {
   "cell_type": "code",
   "execution_count": null,
   "metadata": {
    "collapsed": false
   },
   "outputs": [],
   "source": [
    "param_grid = {'C': [1],\n",
    "              'gamma': [0.008, 0.009, 0.0085, 0.01], }\n",
    "\n",
    "k= [100]\n",
    "\n",
    "result=0.0\n",
    "\n",
    "for i in range(len(k)):\n",
    "    model= modChi('rbf',param_grid, k[i], xin, yin)\n",
    "    tmp= model.best_score_\n",
    "    if(tmp > result):\n",
    "        result=  tmp\n",
    "        params= model.best_params_\n",
    "        dim= k[i]\n",
    "\n",
    "print(\"\\n\")\n",
    "print(\"Best: \")\n",
    "print(result)\n",
    "print(\"params:\")\n",
    "print(params)\n",
    "print(\"dim\")\n",
    "print(dim)"
   ]
  },
  {
   "cell_type": "code",
   "execution_count": null,
   "metadata": {
    "collapsed": false
   },
   "outputs": [],
   "source": [
    "param_grid = {'C': [100, 50, 20, 10, 1, 0.1, 0.001, 0.0001],\n",
    "              'gamma': [1, 0.1, 0.01, 0.001, 0.005, 0.0001, 0.0005, 0.000001], \n",
    "              'coef0': [0, 0.01, 0.001, 0.0001, 100, 1000]}\n",
    "\n",
    "result= 0.0\n",
    "\n",
    "for i in range(len(dims)):\n",
    "    model= buildModel('sigmoid',param_grid, dims[i], xin, yin)\n",
    "    tmp= model.best_score_\n",
    "    if(tmp > result):\n",
    "        result=  tmp\n",
    "        params= model.best_params_\n",
    "        d= dims[i]\n",
    "\n",
    "print(\"\\n\")\n",
    "print(\"Best: \")\n",
    "print(result)\n",
    "print(\"params:\")\n",
    "print(params)\n",
    "print(\"dim\")\n",
    "print(d)"
   ]
  },
  {
   "cell_type": "code",
   "execution_count": 10,
   "metadata": {
    "collapsed": false,
    "scrolled": false
   },
   "outputs": [
    {
     "name": "stdout",
     "output_type": "stream",
     "text": [
      "Extracting the top 150 features from all the 966 features\n",
      "Projecting the input data on the orthonormal basis\n",
      "Done in 0.966s\n"
     ]
    },
    {
     "data": {
      "image/png": "[encoded data removed]",
      "text/plain": [
       "<matplotlib.figure.Figure at 0x1f0be936ba8>"
      ]
     },
     "metadata": {},
     "output_type": "display_data"
    }
   ],
   "source": [
    "#Visualization of the validation \n",
    "from sklearn.model_selection import validation_curve\n",
    "import matplotlib.pyplot as plt\n",
    "\n",
    "param_range = np.logspace(-5, -1, 5)\n",
    "x_in= dimReduction(150,xin)\n",
    "train_scores, test_scores = validation_curve(\n",
    "    SVC(C=1), x_in, yin, param_name=\"gamma\", param_range=param_range,\n",
    "    cv=2, scoring=\"f1_macro\", n_jobs=1)\n",
    "train_scores_mean = np.mean(train_scores, axis=1)\n",
    "train_scores_std = np.std(train_scores, axis=1)\n",
    "test_scores_mean = np.mean(test_scores, axis=1)\n",
    "test_scores_std = np.std(test_scores, axis=1)\n",
    "\n",
    "plt.title(\"Validation Curve with SVM\")\n",
    "plt.xlabel(\"$\\gamma$\")\n",
    "plt.ylabel(\"Score\")\n",
    "plt.ylim(0.0, 1.1)\n",
    "lw = 2\n",
    "plt.semilogx(param_range, train_scores_mean, label=\"Training score\",\n",
    "             color=\"darkorange\", lw=lw)\n",
    "plt.fill_between(param_range, train_scores_mean - train_scores_std,\n",
    "                 train_scores_mean + train_scores_std, alpha=0.2,\n",
    "                 color=\"darkorange\", lw=lw)\n",
    "plt.semilogx(param_range, test_scores_mean, label=\"Cross-validation score\",\n",
    "             color=\"navy\", lw=lw)\n",
    "plt.fill_between(param_range, test_scores_mean - test_scores_std,\n",
    "                 test_scores_mean + test_scores_std, alpha=0.2,\n",
    "                 color=\"navy\", lw=lw)\n",
    "plt.legend(loc=\"best\")\n",
    "plt.show()"
   ]
  }
 ],
 "metadata": {
  "anaconda-cloud": {},
  "kernelspec": {
   "display_name": "Python [conda root]",
   "language": "python",
   "name": "conda-root-py"
  },
  "language_info": {
   "codemirror_mode": {
    "name": "ipython",
    "version": 3
   },
   "file_extension": ".py",
   "mimetype": "text/x-python",
   "name": "python",
   "nbconvert_exporter": "python",
   "pygments_lexer": "ipython3",
   "version": "3.5.2"
  }
 },
 "nbformat": 4,
 "nbformat_minor": 1
}

{
 "cells": [
  {
   "cell_type": "markdown",
   "metadata": {
    "collapsed": true
   },
   "source": [
    "# Homework #2 Part 1 - US Postal Service Zip Code"
   ]
  },
  {
   "cell_type": "markdown",
   "metadata": {},
   "source": [
    "(This skeleton file is provided for HW#1 only.  You are expected to modify it for use in this and other homeworks for the course.)    "
   ]
  },
  {
   "cell_type": "markdown",
   "metadata": {},
   "source": [
    "This is the README section for A0000000X's submission.\n",
    "(For group submissions [when applicable], simply concatenate the student matric numbers in lexicographical order separated by a '-' (dash); e.g., A0000000X-A0000001Y)"
   ]
  },
  {
   "cell_type": "markdown",
   "metadata": {},
   "source": [
    "### General Notes about this assignment \n",
    "\n",
    "Place your comments or requests here for the CS3244 staff to read.  Discuss your architecture or experiments in general.  A paragraph or two is usually sufficient."
   ]
  },
  {
   "cell_type": "markdown",
   "metadata": {},
   "source": [
    "### Files included with this submission\n",
    "\n",
    "List the files in your submission here and provide a short 1 line description of each file.  Make sure your submission's files are named and formatted correctly.\n"
   ]
  },
  {
   "cell_type": "markdown",
   "metadata": {},
   "source": [
    "## Programming Exercise"
   ]
  },
  {
   "cell_type": "code",
   "execution_count": 1,
   "metadata": {
    "collapsed": false
   },
   "outputs": [],
   "source": [
    "from sklearn import svm\n",
    "import numpy as np\n",
    "import numpy.random as nr\n",
    "import matplotlib.pyplot as pl\n",
    "%matplotlib inline\n",
    "\n",
    "# Size the plot appropriately for online display\n",
    "pl.rcParams['figure.figsize'] = (12.0, 10.0)"
   ]
  },
  {
   "cell_type": "markdown",
   "metadata": {},
   "source": [
    "Let's fix the random number generator first, in case we need results that are replicable."
   ]
  },
  {
   "cell_type": "code",
   "execution_count": 2,
   "metadata": {
    "collapsed": true
   },
   "outputs": [],
   "source": [
    "nr.seed(3244)"
   ]
  },
  {
   "cell_type": "code",
   "execution_count": 3,
   "metadata": {
    "collapsed": false
   },
   "outputs": [
    {
     "name": "stdout",
     "output_type": "stream",
     "text": [
      "[[ 0.2479082  -4.1050625 ]\n",
      " [ 0.1595     -0.8375    ]\n",
      " [ 0.07964063 -0.79925   ]\n",
      " ..., \n",
      " [ 0.13388281 -0.929875  ]\n",
      " [ 0.20566406 -0.5256875 ]\n",
      " [ 0.33945508 -5.1548125 ]]\n",
      "[-1.  1.  1. ...,  1.  1. -1.]\n"
     ]
    }
   ],
   "source": [
    "#load training dataset code\n",
    "f = open('hw2-1-train.txt')\n",
    "xn = [] # data input vector\n",
    "yn = [] # data output vector\n",
    "\n",
    "# Parse each line of training data file to get input and corresponding output(class) \n",
    "for line in f: \n",
    "    data = line.split()\n",
    "    data = list(map(float,data))\n",
    "    xi = data[1:len(data)]\n",
    "    yi = data[0]\n",
    "    xn.append(xi)\n",
    "    yn.append(yi)\n",
    "    \n",
    "xn = np.asarray(xn) # convert input vector to numpy array\n",
    "yn = np.asarray(yn) # convert output vector to numpy array\n",
    "print(xn)\n",
    "print(yn)"
   ]
  },
  {
   "cell_type": "code",
   "execution_count": 4,
   "metadata": {
    "collapsed": false
   },
   "outputs": [],
   "source": [
    "#load testing dataset code\n",
    "f = open('hw2-1-test.txt')\n",
    "xntest = [] # data input vector\n",
    "yntest = [] # data output vector\n",
    "\n",
    "# Parse each line of testing data file to get input and corresponding output(class) \n",
    "for line in f: \n",
    "    data = line.split()\n",
    "    data = list(map(float,data))\n",
    "    xi = data[1:len(data)]\n",
    "    yi = data[0]\n",
    "    xntest.append(xi)\n",
    "    yntest.append(yi)\n",
    "    \n",
    "xntest = np.asarray(xntest) # convert input vector to numpy array\n",
    "yntest = np.asarray(yntest) # convert output vector to numpy array"
   ]
  },
  {
   "cell_type": "code",
   "execution_count": 5,
   "metadata": {
    "collapsed": true
   },
   "outputs": [],
   "source": [
    "# Train the SVM\n",
    "def svmTrain(dataTrain, labelTrain, cost, kernel, gamma, degree):\n",
    "    svmModel = svm.SVC(C=cost,coef0 = 1.0,degree=degree,gamma=gamma,kernel=kernel)\n",
    "    svmModel.fit(dataTrain,labelTrain)\n",
    "    totalSV = svmModel.support_vectors_\n",
    "    return (svmModel,totalSV)"
   ]
  },
  {
   "cell_type": "code",
   "execution_count": 6,
   "metadata": {
    "collapsed": true
   },
   "outputs": [],
   "source": [
    "# Predict using SVM Model\n",
    "def svmPredict(data,label,svmModel):\n",
    "    predictedLabels = svmModel.predict(data)\n",
    "    totalSamples = label.shape[0]\n",
    "    '''\n",
    "    testAccuracy = 0.0\n",
    "    for i in range(totalSamples):\n",
    "        if(labelTrain[i] != predictedLabels[i]):\n",
    "            testAccuracy += 1.0\n",
    "    testAccuracy = testAccuracy/totalSamples\n",
    "    '''\n",
    "    accuracy = svmModel.score(data,label)\n",
    "    return accuracy"
   ]
  },
  {
   "cell_type": "code",
   "execution_count": 7,
   "metadata": {
    "collapsed": true
   },
   "outputs": [],
   "source": [
    "# Function to specify number of data points to be considered\n",
    "def subset_data(data,labels,pointCount):\n",
    "    return (data[0:pointCount,:],labels[0:pointCount])"
   ]
  },
  {
   "cell_type": "code",
   "execution_count": 8,
   "metadata": {
    "collapsed": false
   },
   "outputs": [
    {
     "name": "stdout",
     "output_type": "stream",
     "text": [
      "Test accuracy for 1561 points: 0.978773584906\n",
      "Number of support vectors for 1561 points: 28\n",
      "\n",
      "Test accuracy for 50 points: 0.971698113208\n",
      "Number of support vectors for 50 points: 2\n",
      "\n",
      "Test accuracy for 100 points: 0.978773584906\n",
      "Number of support vectors for 100 points: 4\n",
      "\n",
      "Test accuracy for 200 points: 0.981132075472\n",
      "Number of support vectors for 200 points: 4\n",
      "\n",
      "Test accuracy for 800 points: 0.978773584906\n",
      "Number of support vectors for 800 points: 10\n",
      "\n"
     ]
    }
   ],
   "source": [
    "# Problem 1A\n",
    "def problem_1a(data, labels,pointCount):\n",
    "    subset = subset_data(xn,yn,pointCount)\n",
    "    xn_subset = subset[0]   # Subset of datapoints under consideration\n",
    "    yn_subset = subset[1]   # Corresponding labels under consideration\n",
    "    trainingResults = svmTrain(xn_subset,yn_subset,1.0,'linear','auto',3)\n",
    "    svmModel = trainingResults[0];\n",
    "    SV = trainingResults[1]\n",
    "    totalSV = SV.shape[0]   # Total Support Vectors\n",
    "    trainAccuracy = svmPredict(xn_subset,yn_subset,svmModel)\n",
    "    testAccuracy = svmPredict(xntest,yntest,svmModel)\n",
    "    #print('Train accuracy ' + str(pointCount) + '  '+str(trainAccuracy))\n",
    "    print('Test accuracy for ' + str(pointCount) + ' points: '+str(testAccuracy))\n",
    "    print('Number of support vectors for ' + str(pointCount) + ' points: '+str(totalSV))\n",
    "    print()\n",
    "    return ('linear','1.0',totalSV,trainAccuracy,testAccuracy)\n",
    "    \n",
    "def write_results_to_file(results,mode):\n",
    "    fo = open('problem-1a.txt', mode)\n",
    "    kernel = results[0]\n",
    "    cost = results[1]\n",
    "    totalSV = results[2]\n",
    "    trainAccuracy = results[3]\n",
    "    testAccuracy = results[4]\n",
    "    fo.write(\"Kernel: \"+ str(kernel)+\"\\n\")\n",
    "    fo.write(\"Cost: \"+ str(cost)+ \"\\n\")\n",
    "    fo.write(\"Number of Support Vectors: \"+ str(totalSV)+\"\\n\")\n",
    "    fo.write(\"Train Accuracy: \"+ str(trainAccuracy)+\"\\n\")\n",
    "    fo.write(\"Test Accuracy: \" + str(testAccuracy)+\"\\n\")\n",
    "    fo.write(\"\\n\")\n",
    "    fo.close()\n",
    "    \n",
    "# Evaluate on all points\n",
    "results = problem_1a(xn,yn,xn.shape[0])\n",
    "write_results_to_file(results,'w')\n",
    "\n",
    "# Evaluate on 50 points\n",
    "results = problem_1a(xn,yn,50)\n",
    "#write_results_to_file(results,'a')\n",
    "\n",
    "# Evaluate on 100 points\n",
    "results = problem_1a(xn,yn,100)\n",
    "#write_results_to_file(results,'a')\n",
    "\n",
    "# Evaluate on 200 points\n",
    "results = problem_1a(xn,yn,200)\n",
    "#write_results_to_file(results,'a')\n",
    "\n",
    "# Evaluate on 800 points\n",
    "results = problem_1a(xn,yn,800)\n",
    "#write_results_to_file(results,'a')\n"
   ]
  },
  {
   "cell_type": "markdown",
   "metadata": {},
   "source": [
    "Answer to problem-1a ( file output given ONLY for entire dataset as instructed )\n",
    "\n",
    "Test accuracy for 1561 points: 0.978773584906 <br>\n",
    "Number of support vectors for 1561 points: 28 <br>\n",
    "\n",
    "Test accuracy for 50 points: 0.971698113208 <br>\n",
    "Number of support vectors for 50 points: 2 <br>\n",
    "\n",
    "Test accuracy for 100 points: 0.978773584906 <br>\n",
    "Number of support vectors for 100 points: 4 <br>\n",
    "\n",
    "Test accuracy for 200 points: 0.981132075472 <br>\n",
    "Number of support vectors for 200 points: 4 <br>\n",
    "\n",
    "Test accuracy for 800 points: 0.978773584906 <br>\n",
    "Number of support vectors for 800 points: 10"
   ]
  },
  {
   "cell_type": "code",
   "execution_count": 9,
   "metadata": {
    "collapsed": false
   },
   "outputs": [
    {
     "name": "stdout",
     "output_type": "stream",
     "text": [
      "Ein at Q=2:  0.00896860986547\n",
      "Ein at Q=5:  0.00448430493274\n",
      "Statement (i) is false\n",
      "\n",
      "Total support vectors at Q=2:  76\n",
      "Total support vectors at Q=5:  25\n",
      "Statement (ii) is true\n",
      "\n",
      "Ein at Q=2:  0.00448430493274\n",
      "Ein at Q=5:  0.00384368994234\n",
      "Statement (iii) is false\n",
      "\n",
      "Eout at Q=2:  0.0188679245283\n",
      "Eout at Q=5:  0.0212264150943\n",
      "Statement (iv) is false\n",
      "\n",
      "Statement (v) is false\n",
      "\n"
     ]
    }
   ],
   "source": [
    "# Problem 1B\n",
    "def problem_1b(data, labels,degree,cost):\n",
    "    gamma = 1.0\n",
    "    trainingResults = svmTrain(data,labels,cost,'poly',gamma,degree)\n",
    "    svmModel = trainingResults[0];\n",
    "    SV = trainingResults[1]\n",
    "    totalSV = SV.shape[0]\n",
    "    trainAccuracy = svmPredict(xn,yn,svmModel)\n",
    "    testAccuracy = svmPredict(xntest,yntest,svmModel)\n",
    "    if(cost == 0.001):\n",
    "        print('Total support vectors at Q=' +str(degree) + ':  '+str(totalSV))\n",
    "    elif(cost == 1):\n",
    "        print('Eout at Q=' +str(degree) + ':  '+str(1-testAccuracy))\n",
    "    else:\n",
    "        print('Ein at Q=' +str(degree) + ':  '+str(1-trainAccuracy))\n",
    "    #print('Eout ' + str(cost) + '  '+str(degree) + '  '+str(1-testAccuracy))\n",
    "    return ('polynomial',cost,totalSV,trainAccuracy,testAccuracy)\n",
    "\n",
    "def write_results_to_file_1b(filename,results,mode,degree):\n",
    "    fo = open(filename, mode)\n",
    "    kernel = results[0]\n",
    "    cost = results[1]\n",
    "    totalSV = results[2]\n",
    "    trainAccuracy = results[3]\n",
    "    testAccuracy = results[4]\n",
    "    fo.write(\"Kernel: \"+ str(kernel)+\"\\n\")\n",
    "    fo.write(\"Degree (Q): \"+str(degree)+\"\\n\")\n",
    "    fo.write(\"Cost: \"+ str(cost)+ \"\\n\")\n",
    "    fo.write(\"Number of Support Vectors: \"+ str(totalSV)+\"\\n\")\n",
    "    fo.write(\"Train Accuracy: \"+ str(trainAccuracy)+\"\\n\")\n",
    "    fo.write(\"Test Accuracy: \" + str(testAccuracy)+\"\\n\")\n",
    "    fo.write(\"\\n\")\n",
    "    fo.close()\n",
    "# Q = 2 or Q = 5\n",
    "\n",
    "# Part (i) [ C = 0.0001]\n",
    "cost = 0.0001\n",
    "answer_1 = False\n",
    "results_q2 = problem_1b(xn,yn,2,cost)\n",
    "results_q5 = problem_1b(xn,yn,5,cost)\n",
    "Ein_q2 = 1 - results_q2[3]\n",
    "Ein_q5 = 1 - results_q5[3]\n",
    "if(Ein_q5 > Ein_q2):\n",
    "    print('Statement (i) is true')\n",
    "    answer_1 = True\n",
    "else:\n",
    "    print('Statement (i) is false')\n",
    "print()\n",
    "write_results_to_file_1b('problem-1b.txt',results_q2,'w',2)\n",
    "write_results_to_file_1b('problem-1b.txt',results_q5,'a',5)\n",
    "\n",
    "# Part (ii) [ C = 0.001]\n",
    "cost = 0.001\n",
    "answer_2 = False\n",
    "results_q2 = problem_1b(xn,yn,2,cost)\n",
    "results_q5 = problem_1b(xn,yn,5,cost)\n",
    "totalSV_q2 = results_q2[2]\n",
    "totalSV_q5 = results_q5[2]\n",
    "if(totalSV_q5 < totalSV_q2):\n",
    "    print('Statement (ii) is true')\n",
    "    answer_2 = True\n",
    "else:\n",
    "    print('Statement (ii) is false')\n",
    "print()\n",
    "write_results_to_file_1b('problem-1b.txt',results_q2,'a',2)\n",
    "write_results_to_file_1b('problem-1b.txt',results_q5,'a',5)\n",
    "    \n",
    "# Part (iii) [ C = 0.01]\n",
    "cost = 0.01\n",
    "answer_3 = False\n",
    "results_q2 = problem_1b(xn,yn,2,cost)\n",
    "results_q5 = problem_1b(xn,yn,5,cost)\n",
    "Ein_q2 = 1 - results_q2[3]\n",
    "Ein_q5 = 1 - results_q5[3]\n",
    "if(Ein_q5 > Ein_q2):\n",
    "    print('Statement (iii) is true')\n",
    "    answer_3 = True\n",
    "else:\n",
    "    print('Statement (iii) is false')\n",
    "print()\n",
    "write_results_to_file_1b('problem-1b.txt',results_q2,'a',2)\n",
    "write_results_to_file_1b('problem-1b.txt',results_q5,'a',5)\n",
    "    \n",
    "# Part (iv) [ C = 1]\n",
    "cost = 1\n",
    "answer_4 = False\n",
    "results_q2 = problem_1b(xn,yn,2,cost)\n",
    "results_q5 = problem_1b(xn,yn,5,cost)\n",
    "Eout_q2 = 1 - results_q2[4]\n",
    "Eout_q5 = 1 - results_q5[4]\n",
    "if(Eout_q5 < Eout_q2):\n",
    "    print('Statement (iv) is true')\n",
    "    answer_4 = True\n",
    "else:\n",
    "    print('Statement (iv) is false')\n",
    "print()\n",
    "write_results_to_file_1b('problem-1b.txt',results_q2,'a',2)\n",
    "write_results_to_file_1b('problem-1b.txt',results_q5,'a',5)\n",
    "    \n",
    "# Part (v)\n",
    "if(not(answer_1 or answer_2 or answer_3 or answer_4)):\n",
    "    print('Statement (v) is true')\n",
    "else:\n",
    "    print('Statement (v) is false')\n",
    "print()"
   ]
  },
  {
   "cell_type": "markdown",
   "metadata": {},
   "source": [
    "Answer to problem-1b ( answers also given in .txt file for all cases)\n",
    "\n",
    "Ein at Q=2:  0.00896860986547 <br>\n",
    "Ein at Q=5:  0.00448430493274 <br>\n",
    "Statement (i) is false <br>\n",
    "\n",
    "Total support vectors at Q=2:  76 <br>\n",
    "Total support vectors at Q=5:  25 <br>\n",
    "Statement (ii) is true <br>\n",
    "\n",
    "Ein at Q=2:  0.00448430493274 <br>\n",
    "Ein at Q=5:  0.00384368994234 <br>\n",
    "Statement (iii) is false <br>\n",
    "\n",
    "Eout at Q=2:  0.0188679245283 <br>\n",
    "Eout at Q=5:  0.0212264150943 <br>\n",
    "Statement (iv) is false <br>\n",
    "\n",
    "Statement (v) is false"
   ]
  },
  {
   "cell_type": "code",
   "execution_count": 10,
   "metadata": {
    "collapsed": false
   },
   "outputs": [
    {
     "name": "stdout",
     "output_type": "stream",
     "text": [
      "Ein for cost 0.01 is: 0.00384368994234\n",
      "Eout for cost 0.01 is: 0.0235849056604\n",
      "\n",
      "Ein for cost 1 is: 0.00448430493274\n",
      "Eout for cost 1 is: 0.0212264150943\n",
      "\n",
      "Ein for cost 100 is: 0.00320307495195\n",
      "Eout for cost 100 is: 0.0188679245283\n",
      "\n",
      "Ein for cost 10000 is: 0.00256245996156\n",
      "Eout for cost 10000 is: 0.0235849056604\n",
      "\n",
      "Ein for cost 1000000 is: 0.000640614990391\n",
      "Eout for cost 1000000 is: 0.0235849056604\n",
      "\n",
      "\n",
      "The lowest value of Ein is 0.000640614990391 at C=1000000\n",
      "The lowest value of Eout is 0.0188679245283 at C=100\n"
     ]
    }
   ],
   "source": [
    "# Problem 1c\n",
    "\n",
    "def problem_1c(dataTrain, labelsTrain, dataTest, labelsTest,cost):\n",
    "    kernel = 'rbf'\n",
    "    gamma = 1.0\n",
    "    degree = 1\n",
    "    trainingResults = svmTrain(dataTrain,labelsTrain,cost,kernel,gamma,degree)\n",
    "    svmModel = trainingResults[0];\n",
    "    SV = trainingResults[1]\n",
    "    totalSV = SV.shape[0]\n",
    "    trainAccuracy = svmPredict(dataTrain,labelsTrain,svmModel)\n",
    "    testAccuracy = svmPredict(dataTest,labelsTest,svmModel)\n",
    "    print('Ein for cost ' + str(cost) +' is: '+str(1-trainAccuracy))\n",
    "    print('Eout for cost ' + str(cost) + ' is: '+str(1-testAccuracy))\n",
    "    print()\n",
    "    return ('polynomial',cost,totalSV,trainAccuracy,testAccuracy)\n",
    "\n",
    "def write_results_to_file_1c(filename,results,mode):\n",
    "    fo = open(filename, mode)\n",
    "    kernel = results[0]\n",
    "    cost = results[1]\n",
    "    totalSV = results[2]\n",
    "    trainAccuracy = results[3]\n",
    "    testAccuracy = results[4]\n",
    "    fo.write(\"Kernel: \"+ str(kernel)+\"\\n\")\n",
    "    fo.write(\"Cost: \"+ str(cost)+ \"\\n\")\n",
    "    fo.write(\"Number of Support Vectors: \"+ str(totalSV)+\"\\n\")\n",
    "    fo.write(\"Train Accuracy: \"+ str(trainAccuracy)+\"\\n\")\n",
    "    fo.write(\"Test Accuracy: \" + str(testAccuracy)+\"\\n\")\n",
    "    fo.write(\"\\n\")\n",
    "    fo.close()\n",
    "    \n",
    "overall_results_ein = []\n",
    "overall_results_eout = []\n",
    "\n",
    "# [ C = 0.01]\n",
    "cost = 0.01\n",
    "results_1 = problem_1c(xn,yn,xntest,yntest,cost)\n",
    "Ein_1 = 1 - results_1[3]\n",
    "Eout_1 = 1 - results_1[4]\n",
    "overall_results_ein.append((cost,Ein_1))\n",
    "overall_results_eout.append((cost,Eout_1))\n",
    "write_results_to_file_1c('problem-1c.txt',results_1,'w')\n",
    "\n",
    "# [ C = 1 ]\n",
    "cost = 1\n",
    "results_2 = problem_1c(xn,yn,xntest,yntest,cost)\n",
    "Ein_2 = 1 - results_2[3]\n",
    "Eout_2 = 1 - results_2[4]\n",
    "overall_results_ein.append((cost,Ein_2))\n",
    "overall_results_eout.append((cost,Eout_2))\n",
    "write_results_to_file_1c('problem-1c.txt',results_2,'a')\n",
    "\n",
    "# [ C = 100 ]\n",
    "cost = 100\n",
    "results_3 = problem_1c(xn,yn,xntest,yntest,cost)\n",
    "Ein_3 = 1 - results_3[3]\n",
    "Eout_3 = 1 - results_3[4]\n",
    "overall_results_ein.append((cost,Ein_3))\n",
    "overall_results_eout.append((cost,Eout_3))\n",
    "write_results_to_file_1c('problem-1c.txt',results_3,'a')\n",
    "\n",
    "# [ C = 10000 ]\n",
    "cost = 10000\n",
    "results_4 = problem_1c(xn,yn,xntest,yntest,cost)\n",
    "Ein_4 = 1 - results_4[3]\n",
    "Eout_4 = 1 - results_4[4]\n",
    "overall_results_ein.append((cost,Ein_4))\n",
    "overall_results_eout.append((cost,Eout_4))\n",
    "write_results_to_file_1c('problem-1c.txt',results_4,'a')\n",
    "\n",
    "# [ C = 1000000 ]\n",
    "cost = 1000000\n",
    "results_5 = problem_1c(xn,yn,xntest,yntest,cost)\n",
    "Ein_5 = 1 - results_5[3]\n",
    "Eout_5 = 1 - results_5[4]\n",
    "overall_results_ein.append((cost,Ein_5))\n",
    "overall_results_eout.append((cost,Eout_5))\n",
    "write_results_to_file_1c('problem-1c.txt',results_5,'a')\n",
    "\n",
    "min_ein = min(overall_results_ein, key = lambda t: t[1])\n",
    "min_eout = min(overall_results_eout, key = lambda t: t[1])\n",
    "print()\n",
    "print('The lowest value of Ein is '+str(min_ein[1])+' at C='+str(min_ein[0]))\n",
    "print('The lowest value of Eout is '+str(min_eout[1])+' at C='+str(min_eout[0]))"
   ]
  },
  {
   "cell_type": "markdown",
   "metadata": {},
   "source": [
    "Answer to problem-1c ( answers also given in .txt file for all subsets)\n",
    "\n",
    "Ein for cost 0.01 is: 0.00384368994234 <br>\n",
    "Eout for cost 0.01 is: 0.0235849056604\n",
    "\n",
    "Ein for cost 1 is: 0.00448430493274 <br>\n",
    "Eout for cost 1 is: 0.0212264150943\n",
    "\n",
    "Ein for cost 100 is: 0.00320307495195 <br>\n",
    "Eout for cost 100 is: 0.0188679245283\n",
    "\n",
    "Ein for cost 10000 is: 0.00256245996156 <br>\n",
    "Eout for cost 10000 is: 0.0235849056604\n",
    "\n",
    "Ein for cost 1000000 is: 0.000640614990391 <br>\n",
    "Eout for cost 1000000 is: 0.0235849056604\n",
    "\n",
    "\n",
    "The lowest value of Ein is 0.000640614990391 at C=1000000 <br>\n",
    "The lowest value of Eout is 0.0188679245283 at C=100"
   ]
  },
  {
   "cell_type": "markdown",
   "metadata": {},
   "source": [
    "## Statement of Individual Work\n",
    "\n",
    "Please initial (between the square brackets) one of the following statements.\n",
    "\n",
    "[ MG ] I, A0153196B, certify that I have followed the CS 3244 Machine Learning class guidelines for homework assignments.  In particular, I expressly vow that I have followed the Facebook rule in discussing with others in doing the assignment and did not take notes (digital or printed) from the discussions.  \n",
    "\n",
    "[ ] I, <*substitute your matric number here*>, did not follow the class rules regarding the homework assignment, because of the following reason:\n",
    "\n",
    "<*Please fill in*>\n",
    "\n",
    "I suggest that I should be graded as follows:\n",
    "\n",
    "<*Please fill in*>\n",
    "\n",
    "### References\n",
    "\n",
    "I have refered to the following list of people and websites in preparing my homework submission:\n",
    "\n",
    "<*please fill in*>"
   ]
  }
 ],
 "metadata": {
  "anaconda-cloud": {},
  "kernelspec": {
   "display_name": "Python [Root]",
   "language": "python",
   "name": "Python [Root]"
  },
  "language_info": {
   "codemirror_mode": {
    "name": "ipython",
    "version": 3
   },
   "file_extension": ".py",
   "mimetype": "text/x-python",
   "name": "python",
   "nbconvert_exporter": "python",
   "pygments_lexer": "ipython3",
   "version": "3.5.2"
  }
 },
 "nbformat": 4,
 "nbformat_minor": 0
}

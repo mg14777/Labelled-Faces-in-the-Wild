{
 "cells": [
  {
   "cell_type": "code",
   "execution_count": null,
   "metadata": {
    "collapsed": true
   },
   "outputs": [],
   "source": [
    "import numpy as np\n",
    "import pandas as pd \n",
    "%matplotlib inline\n",
    "# np.set_printoptions(threshold=np.inf)\n",
    "\n",
    "import matplotlib.pyplot as plt\n",
    "import sklearn\n",
    "from sklearn.neural_network import MLPClassifier\n",
    "from sklearn.metrics import f1_score\n",
    "from sklearn.model_selection import train_test_split\n",
    "from sklearn.model_selection import GridSearchCV\n",
    "from sklearn.model_selection import cross_val_score\n",
    "from sklearn.model_selection import StratifiedKFold\n",
    "from sklearn.metrics import classification_report\n",
    "from sklearn.metrics import confusion_matrix\n",
    "from scipy.stats import zscore\n",
    "from scipy import stats\n",
    "# from sklearn.decomposition import PCA\n",
    "from time import time\n",
    "# Size the plot appropriately for online display\n",
    "pl.rcParams['figure.figsize'] = (12.0, 10.0)"
   ]
  },
  {
   "cell_type": "code",
   "execution_count": null,
   "metadata": {
    "collapsed": true
   },
   "outputs": [],
   "source": [
    "def createSubmission(filename, y):\n",
    "    fo = open( filename , 'w' )\n",
    "    fo.write(\"ImageId,PredictedClass\\n\")\n",
    "    for i in range(y.shape[0]):\n",
    "        fo.write(str(i)+\",\"+str(y[i])+\"\\n\")\n",
    "    fo.close()\n",
    "\n",
    "def nnPredict(model,x, y):\n",
    "    ypredict= model.predict(x)\n",
    "    score= f1_score(y , ypredict, average='macro');\n",
    "    return score"
   ]
  },
  {
   "cell_type": "code",
   "execution_count": null,
   "metadata": {
    "collapsed": true
   },
   "outputs": [],
   "source": [
    "xin= np.load(\"./X_train.npy\")\n",
    "yin= np.load(\"./y_train.npy\")\n",
    "xout= np.load(\"./X_test.npy\")"
   ]
  },
  {
   "cell_type": "code",
   "execution_count": null,
   "metadata": {
    "collapsed": false
   },
   "outputs": [],
   "source": [
    "#scale data\n",
    "def normalize(x):\n",
    "    r=zscore(x, axis=0)\n",
    "    return r"
   ]
  },
  {
   "cell_type": "code",
   "execution_count": null,
   "metadata": {
    "collapsed": false
   },
   "outputs": [],
   "source": [
    "#split dataset and normalization \n",
    "x_train, x_test, y_train, y_test = train_test_split(\n",
    "    xin, yin, test_size=0.3, random_state=0)\n",
    "\n",
    "#print(stats.itemfreq(y_train))\n",
    "#print(stats.itemfreq(y_test))\n",
    "\n",
    "x_train= normalize(x_train)\n",
    "x_test= normalize(x_test)"
   ]
  },
  {
   "cell_type": "code",
   "execution_count": null,
   "metadata": {
    "collapsed": false
   },
   "outputs": [],
   "source": [
    "nn = MLPClassifier(hidden_layer_sizes=(1851,400,),\n",
    "                   activation= 'tanh',\n",
    "                   solver= 'lbfgs',\n",
    "                   alpha= 10,\n",
    "                   max_iter= 1000,\n",
    "                   learning_rate_init= 0.001,\n",
    "                   verbose= True,\n",
    "                   early_stopping= True,\n",
    "                   validation_fraction= 0.3,\n",
    "                   tol= 0.00001\n",
    "                  )\n",
    "\n",
    "nn.fit(x_train,y_train)\n",
    "y_p= nn.predict(x_train)\n",
    "print('Performance in sample:\\n')\n",
    "print(classification_report(y_train, y_p))\n",
    "print()\n",
    "print(f1_score(y_train, y_p, average= None))\n",
    "print()\n",
    "y_pred = nn.predict(x_test)\n",
    "print(\"Detailed classification report:\")\n",
    "print()\n",
    "print(classification_report(y_test, y_pred))\n",
    "print()\n",
    "print(f1_score(y_test, y_pred, average= None))\n",
    "print()\n",
    "score= nnPredict(nn, x_test, y_test)\n",
    "print(\"F1 _macro:\" + str(score))"
   ]
  },
  {
   "cell_type": "code",
   "execution_count": null,
   "metadata": {
    "collapsed": false
   },
   "outputs": [],
   "source": [
    "NEURAL_NETWORK_ARCH = ((1851,400,))\n",
    "DATE = '10_26'\n",
    "\n",
    "nn = MLPClassifier(hidden_layer_sizes=(1851,400,),\n",
    "                   activation= 'tanh',\n",
    "                   solver= 'lbfgs',\n",
    "                   alpha= 10,\n",
    "                   max_iter= 1000,\n",
    "                   learning_rate_init= 0.001,\n",
    "                   verbose= True,\n",
    "                   early_stopping= True,\n",
    "                   validation_fraction= 0.3,\n",
    "                   tol= 0.00001\n",
    "                  )\n",
    "x_in= normalize(xin)\n",
    "nn.fit(x_in,yin)\n",
    "\n",
    "# Run the trained neural network on the test set and write results to a csv file\n",
    "filename = './submission_nn_' + DATE + '_' + str(NEURAL_NETWORK_ARCH) + '.csv'\n",
    "x_out= normalize(xout)\n",
    "y_out = nn.predict(x_out)\n",
    "createSubmission(filename, y_out)"
   ]
  },
  {
   "cell_type": "code",
   "execution_count": null,
   "metadata": {
    "collapsed": true
   },
   "outputs": [],
   "source": [
    "#Score on Kaggle achived: 0.82609 "
   ]
  }
 ],
 "metadata": {
  "anaconda-cloud": {},
  "kernelspec": {
   "display_name": "Python [conda root]",
   "language": "python",
   "name": "conda-root-py"
  },
  "language_info": {
   "codemirror_mode": {
    "name": "ipython",
    "version": 3
   },
   "file_extension": ".py",
   "mimetype": "text/x-python",
   "name": "python",
   "nbconvert_exporter": "python",
   "pygments_lexer": "ipython3",
   "version": "3.5.2"
  }
 },
 "nbformat": 4,
 "nbformat_minor": 1
}

{
 "cells": [
  {
   "cell_type": "code",
   "execution_count": 14,
   "metadata": {
    "collapsed": false
   },
   "outputs": [],
   "source": [
    "import numpy as np\n",
    "import pandas as pd \n",
    "%matplotlib inline\n",
    "# np.set_printoptions(threshold=np.inf)\n",
    "import datetime\n",
    "import matplotlib.pyplot as plt\n",
    "import sklearn\n",
    "from sklearn.neural_network import MLPClassifier\n",
    "from sklearn.metrics import f1_score\n",
    "from sklearn.model_selection import train_test_split\n",
    "from sklearn.model_selection import GridSearchCV\n",
    "from sklearn.model_selection import cross_val_score\n",
    "from sklearn.model_selection import StratifiedKFold\n",
    "from sklearn.metrics import classification_report\n",
    "from sklearn.metrics import confusion_matrix\n",
    "from scipy.stats import zscore\n",
    "from imblearn.over_sampling import SMOTE\n",
    "from scipy.stats import itemfreq\n",
    "# from sklearn.decomposition import PCA\n",
    "from time import time"
   ]
  },
  {
   "cell_type": "code",
   "execution_count": 15,
   "metadata": {
    "collapsed": true
   },
   "outputs": [],
   "source": [
    "def createSubmission(filename, y):\n",
    "    fo = open( filename , 'w' )\n",
    "    fo.write(\"ImageId,PredictedClass\\n\")\n",
    "    for i in range(y.shape[0]):\n",
    "        fo.write(str(i)+\",\"+str(y[i])+\"\\n\")\n",
    "    fo.close()\n",
    "\n",
    "def nnPredict(model,x, y):\n",
    "    ypredict= model.predict(x)\n",
    "    score= f1_score(y , ypredict, average='macro');\n",
    "    return score"
   ]
  },
  {
   "cell_type": "code",
   "execution_count": 3,
   "metadata": {
    "collapsed": true
   },
   "outputs": [],
   "source": [
    "xin= np.load(\"./X_train.npy\")\n",
    "yin= np.load(\"./y_train.npy\")\n",
    "xout= np.load(\"./X_test.npy\")"
   ]
  },
  {
   "cell_type": "code",
   "execution_count": 16,
   "metadata": {
    "collapsed": false
   },
   "outputs": [],
   "source": [
    "#scale data\n",
    "def normalize(x):\n",
    "    r=zscore(x, axis=0)\n",
    "    return r"
   ]
  },
  {
   "cell_type": "code",
   "execution_count": 4,
   "metadata": {
    "collapsed": true
   },
   "outputs": [],
   "source": [
    "def underSampling(x, y):\n",
    "    cc = ClusterCentroids()\n",
    "    x_resampled, y_resampled = cc.fit_sample(x, y)\n",
    "    return (x_resampled, y_resampled)"
   ]
  },
  {
   "cell_type": "code",
   "execution_count": 5,
   "metadata": {
    "collapsed": false
   },
   "outputs": [],
   "source": [
    "#split dataset and normalization \n",
    "x_train, x_test, y_train, y_test = train_test_split(\n",
    "    xin, yin, test_size=0.3, random_state=0)\n",
    "\n",
    "#print(stats.itemfreq(y_train))\n",
    "#print(stats.itemfreq(y_test))\n",
    "\n",
    "x_train= normalize(x_train)\n",
    "x_test= normalize(x_test)\n",
    "\n",
    "#x_train, y_train = underSampling(x_train, y_train)"
   ]
  },
  {
   "cell_type": "code",
   "execution_count": null,
   "metadata": {
    "collapsed": false,
    "scrolled": true
   },
   "outputs": [],
   "source": [
    "nn = MLPClassifier(hidden_layer_sizes=(1851, 400,),\n",
    "                   activation= 'tanh',\n",
    "                   solver= 'lbfgs',\n",
    "                   alpha= 0.05,\n",
    "                   max_iter= 500,\n",
    "                   learning_rate_init= 0.001,\n",
    "                   verbose= True,\n",
    "                   early_stopping= True,\n",
    "                   validation_fraction= 0.3,\n",
    "                   tol= 0.0001\n",
    "                  )\n",
    "\n",
    "nn.fit(x_train,y_train)\n",
    "y_p= nn.predict(x_train)\n",
    "print('Performance in sample:\\n')\n",
    "print(confusion_matrix(y_train, y_p))\n",
    "print()\n",
    "print(f1_score(y_train, y_p, average= None))\n",
    "print()\n",
    "y_pred = nn.predict(x_test)\n",
    "print(\"Detailed classification report:\")\n",
    "print()\n",
    "print(confusion_matrix(y_test, y_pred))\n",
    "print()\n",
    "print(f1_score(y_test, y_pred, average= None))\n",
    "print()\n",
    "score= nnPredict(nn, x_test, y_test)\n",
    "print(\"F1 _macro:\" + str(score))"
   ]
  },
  {
   "cell_type": "code",
   "execution_count": 8,
   "metadata": {
    "collapsed": false
   },
   "outputs": [
    {
     "name": "stdout",
     "output_type": "stream",
     "text": [
      "Performance in sample:\n",
      "\n",
      "[[ 34   0   0   0   0   0   0]\n",
      " [  0 136   0   0   0   0   0]\n",
      " [  0   0  57   0   0   0   0]\n",
      " [  0   0   0 277   0   0   0]\n",
      " [  0   0   0   0  62   0   0]\n",
      " [  0   0   0   0   0  44   0]\n",
      " [  0   0   0   0   0   0  66]]\n",
      "\n",
      "[ 1.  1.  1.  1.  1.  1.  1.]\n",
      "\n",
      "Detailed classification report:\n",
      "\n",
      "[[  9   6   1   0   0   0   1]\n",
      " [  3  35   2   5   0   2   0]\n",
      " [  0   2  23   3   0   0   0]\n",
      " [  1   2   0 111   1   1   2]\n",
      " [  0   1   1   0  19   1   2]\n",
      " [  0   0   0   2   3  11   0]\n",
      " [  0   1   2   3   1   0  33]]\n",
      "\n",
      "[ 0.6         0.74468085  0.80701754  0.91735537  0.79166667  0.70967742\n",
      "  0.84615385]\n",
      "\n",
      "F1 _macro:0.773793099857\n"
     ]
    }
   ],
   "source": [
    "nn = MLPClassifier(hidden_layer_sizes=(1851, 400,),\n",
    "                   activation= 'tanh',\n",
    "                   solver= 'lbfgs',\n",
    "                   alpha= 1,\n",
    "                   max_iter= 500,\n",
    "                   learning_rate_init= 0.001,\n",
    "                   verbose= True,\n",
    "                   early_stopping= True,\n",
    "                   validation_fraction= 0.3,\n",
    "                   tol= 0.0001\n",
    "                  )\n",
    "\n",
    "nn.fit(x_train,y_train)\n",
    "y_p= nn.predict(x_train)\n",
    "print('Performance in sample:\\n')\n",
    "print(confusion_matrix(y_train, y_p))\n",
    "print()\n",
    "print(f1_score(y_train, y_p, average= None))\n",
    "print()\n",
    "y_pred = nn.predict(x_test)\n",
    "print(\"Detailed classification report:\")\n",
    "print()\n",
    "print(confusion_matrix(y_test, y_pred))\n",
    "print()\n",
    "print(f1_score(y_test, y_pred, average= None))\n",
    "print()\n",
    "score= nnPredict(nn, x_test, y_test)\n",
    "print(\"F1 _macro:\" + str(score))"
   ]
  },
  {
   "cell_type": "code",
   "execution_count": null,
   "metadata": {
    "collapsed": true
   },
   "outputs": [],
   "source": [
    "# alpha 5 0.783268274508 after decreasing? lr= 0.0001\n",
    "# alpha 50 too high\n",
    "\n",
    "# alpha = 20 -> F1 _macro:0.770553013578\n",
    "# alpha = 5 lr= 0.01 -> 0.786858651364\n",
    "# a = 7 lr= 0.01 -> 0.788296988937\n",
    "# a=10 -> 0.774417948608\n",
    "# a= 2 -> 0.780102477052\n",
    "# a = 8.5 -> 0.774417948608\n",
    "# a = 20 -> 0.770553013578\n",
    "# a = 50 -> 0.73290899476\n",
    "#a = 100 -> too bad \n",
    "# a= 0.5 -> 0.780339828822\n",
    "# a = 7.5 -> 0.781181790173"
   ]
  },
  {
   "cell_type": "code",
   "execution_count": 10,
   "metadata": {
    "collapsed": false,
    "scrolled": false
   },
   "outputs": [
    {
     "name": "stdout",
     "output_type": "stream",
     "text": [
      "Performance in sample:\n",
      "\n",
      "[[ 34   0   0   0   0   0   0]\n",
      " [  0 136   0   0   0   0   0]\n",
      " [  0   0  57   0   0   0   0]\n",
      " [  0   0   0 277   0   0   0]\n",
      " [  0   0   0   0  62   0   0]\n",
      " [  0   0   0   0   0  44   0]\n",
      " [  0   0   0   0   0   0  66]]\n",
      "\n",
      "[ 1.  1.  1.  1.  1.  1.  1.]\n",
      "\n",
      "Detailed classification report:\n",
      "\n",
      "[[  9   6   1   0   0   0   1]\n",
      " [  2  36   2   5   0   2   0]\n",
      " [  0   2  23   3   0   0   0]\n",
      " [  1   2   1 112   0   0   2]\n",
      " [  0   1   1   0  20   1   1]\n",
      " [  0   1   0   1   3  11   0]\n",
      " [  0   1   1   3   1   0  34]]\n",
      "\n",
      "[ 0.62068966  0.75        0.80701754  0.92561983  0.83333333  0.73333333\n",
      "  0.87179487]\n",
      "\n",
      "F1 _macro:0.791684081743\n"
     ]
    }
   ],
   "source": [
    "nn = MLPClassifier(hidden_layer_sizes=(1851, 400,),\n",
    "                   activation= 'tanh',\n",
    "                   solver= 'lbfgs',\n",
    "                   alpha= 1,\n",
    "                   max_iter= 500,\n",
    "                   learning_rate_init= 0.001,\n",
    "                   verbose= True,\n",
    "                   early_stopping= True,\n",
    "                   validation_fraction= 0.3,\n",
    "                   tol= 0.0001\n",
    "                  )\n",
    "\n",
    "nn.fit(x_train,y_train)\n",
    "y_p= nn.predict(x_train)\n",
    "print('Performance in sample:\\n')\n",
    "print(confusion_matrix(y_train, y_p))\n",
    "print()\n",
    "print(f1_score(y_train, y_p, average= None))\n",
    "print()\n",
    "y_pred = nn.predict(x_test)\n",
    "print(\"Detailed classification report:\")\n",
    "print()\n",
    "print(confusion_matrix(y_test, y_pred))\n",
    "print()\n",
    "print(f1_score(y_test, y_pred, average= None))\n",
    "print()\n",
    "score= nnPredict(nn, x_test, y_test)\n",
    "print(\"F1 _macro:\" + str(score))"
   ]
  },
  {
   "cell_type": "code",
   "execution_count": 32,
   "metadata": {
    "collapsed": true
   },
   "outputs": [],
   "source": [
    "def evaluateModel(alp):\n",
    "    nn = MLPClassifier(hidden_layer_sizes=(1851, 400,),\n",
    "                   activation= 'relu',\n",
    "                   solver= 'lbfgs',\n",
    "                   alpha= alp,\n",
    "                   max_iter= 500,\n",
    "                   learning_rate_init= 0.001,\n",
    "                   verbose= True,\n",
    "                   early_stopping= True,\n",
    "                   validation_fraction= 0.3,\n",
    "                   tol= 0.0001\n",
    "                  )\n",
    "    nn.fit(x_train,y_train)\n",
    "    y_pred = nn.predict(x_test)\n",
    "    matrix = confusion_matrix(y_test, y_pred)\n",
    "    vect = f1_score(y_test, y_pred, average= None)\n",
    "    score = nnPredict(nn, x_test, y_test)\n",
    "    return (score, vect, matrix)"
   ]
  },
  {
   "cell_type": "code",
   "execution_count": 33,
   "metadata": {
    "collapsed": true
   },
   "outputs": [],
   "source": [
    "def overSampling(x, y, ki):\n",
    "    sm = SMOTE(kind= ki)\n",
    "    x_resampled, y_resampled = sm.fit_sample(x, y)\n",
    "    return (x_resampled, y_resampled)"
   ]
  },
  {
   "cell_type": "code",
   "execution_count": 34,
   "metadata": {
    "collapsed": false
   },
   "outputs": [
    {
     "name": "stdout",
     "output_type": "stream",
     "text": [
      "(901, 1850)\n",
      "(966, 1850)\n",
      "[[  0  51]\n",
      " [  1 183]\n",
      " [  2  85]\n",
      " [  3 395]\n",
      " [  4  86]\n",
      " [  5  60]\n",
      " [  6 106]]\n",
      "[[  0 139]\n",
      " [  1 136]\n",
      " [  2  57]\n",
      " [  3 277]\n",
      " [  4  62]\n",
      " [  5 164]\n",
      " [  6  66]]\n"
     ]
    }
   ],
   "source": [
    "#run\n",
    "xin= np.load(\"./X_train.npy\")\n",
    "yin= np.load(\"./y_train.npy\")\n",
    "x= xin\n",
    "y= yin\n",
    "ovr= 2\n",
    "kind= 'svm'\n",
    "x_train, x_test, y_train, y_test = train_test_split(\n",
    "    x, y, test_size=0.3, random_state=0)\n",
    "for _ in range(ovr):\n",
    "    x_train,y_train = overSampling(x_train, y_train, kind)\n",
    "print(x_train.shape)\n",
    "print(x.shape)\n",
    "print(itemfreq(yin))\n",
    "print(itemfreq(y_train))\n",
    "\n",
    "x_train= normalize(x_train)\n",
    "x_test= normalize(x_test)"
   ]
  },
  {
   "cell_type": "code",
   "execution_count": 21,
   "metadata": {
    "collapsed": false
   },
   "outputs": [
    {
     "name": "stdout",
     "output_type": "stream",
     "text": [
      "Best a= 0.001\n",
      "\n",
      "Score = 0.731525581495\n",
      "\n",
      "Done in 1724.5113213062286\n"
     ]
    }
   ],
   "source": [
    "i = datetime.datetime.now()\n",
    "tm= str(i.year) + '-' + str(i.month) + '-' + str(i.day) + '_' + str(i.hour) + '-' + str(i.minute)\n",
    "filename = 'search'+ tm + 'ovr' + str(ovr)+'kind'+ kind +'.txt'\n",
    "a= [0.001, 0.01, 1, 2, 3, 4, 5, 10, 20, 50]\n",
    "t0= time()\n",
    "\n",
    "fo = open( filename , 'w' )\n",
    "fo.write(str(a))\n",
    "fo.write('\\n')\n",
    "fo.write('hidden_layer_sizes=(1851, 400,), activation= tanh, solver= lbfgs,'+\n",
    "         'alpha= alp,max_iter= 500,learning_rate_init= 0.001,'+\n",
    "         'verbose= True, early_stopping= True, validation_fraction= 0.3, tol= 0.0001\\n')\n",
    "fo.close()\n",
    "\n",
    "hscore= 0.0\n",
    "lowestsc= 0.0\n",
    "bestA= 0\n",
    "\n",
    "for i in range(len(a)):\n",
    "    score, vect, matrix= evaluateModel(a[i])\n",
    "    fo = open( filename , 'a' )\n",
    "    fo.write('\\n')\n",
    "    fo.write('For '+ str(a[i])+'\\n')\n",
    "    fo.write('Avg score '+ str(score)+'\\n')\n",
    "    fo.write('Score ' +str(vect)+'\\n')\n",
    "    fo.write('Conf matr'+'\\n')\n",
    "    fo.write(str(matrix))\n",
    "    fo.write('\\n')\n",
    "    fo.close()\n",
    "    \n",
    "    if(score > hscore):\n",
    "        worstPred= min(vect)\n",
    "        if(worstPred > lowestsc):\n",
    "            hscore= score\n",
    "            lowestsc= worstPred\n",
    "            bestA= a[i]\n",
    "\n",
    "fo = open( filename , 'a' )\n",
    "fo.write('Best a= '+ str(bestA)+'\\n')\n",
    "fo.write('Score = '+ str(hscore)+ '\\n')\n",
    "fo.write('Lowest score pred= '+ str(lowestsc)+'\\n')\n",
    "print('Best a= '+ str(bestA)+'\\n')\n",
    "print('Score = '+ str(hscore)+ '\\n')\n",
    "print('Done in ' + str(time()-t0)) "
   ]
  },
  {
   "cell_type": "code",
   "execution_count": 22,
   "metadata": {
    "collapsed": false
   },
   "outputs": [
    {
     "name": "stdout",
     "output_type": "stream",
     "text": [
      "(1152, 1850)\n",
      "(966, 1850)\n",
      "[[  0  51]\n",
      " [  1 183]\n",
      " [  2  85]\n",
      " [  3 395]\n",
      " [  4  86]\n",
      " [  5  60]\n",
      " [  6 106]]\n",
      "[[  0 277]\n",
      " [  1 136]\n",
      " [  2  57]\n",
      " [  3 277]\n",
      " [  4  62]\n",
      " [  5 277]\n",
      " [  6  66]]\n"
     ]
    }
   ],
   "source": [
    "#run\n",
    "xin= np.load(\"./X_train.npy\")\n",
    "yin= np.load(\"./y_train.npy\")\n",
    "x= xin\n",
    "y= yin\n",
    "ovr= 2\n",
    "kind= 'regular'\n",
    "x_train, x_test, y_train, y_test = train_test_split(\n",
    "    x, y, test_size=0.3, random_state=0)\n",
    "for _ in range(ovr):\n",
    "    x_train,y_train = overSampling(x_train, y_train, kind)\n",
    "print(x_train.shape)\n",
    "print(x.shape)\n",
    "print(itemfreq(yin))\n",
    "print(itemfreq(y_train))\n",
    "\n",
    "x_train= normalize(x_train)\n",
    "x_test= normalize(x_test)"
   ]
  },
  {
   "cell_type": "code",
   "execution_count": 23,
   "metadata": {
    "collapsed": false
   },
   "outputs": [
    {
     "name": "stdout",
     "output_type": "stream",
     "text": [
      "Best a= 2\n",
      "\n",
      "Score = 0.744621928372\n",
      "\n",
      "Done in 1768.3811700344086\n"
     ]
    }
   ],
   "source": [
    "i = datetime.datetime.now()\n",
    "tm= str(i.year) + '-' + str(i.month) + '-' + str(i.day) + '_' + str(i.hour) + '-' + str(i.minute)\n",
    "filename = 'search'+ tm + 'ovr' + str(ovr)+'kind'+ kind +'.txt'\n",
    "a= [0.001, 0.01, 1, 2, 3, 4, 5, 10, 20, 50]\n",
    "t0= time()\n",
    "\n",
    "fo = open( filename , 'w' )\n",
    "fo.write(str(a))\n",
    "fo.write('\\n')\n",
    "fo.write('hidden_layer_sizes=(1851, 400,), activation= tanh, solver= lbfgs,'+\n",
    "         'alpha= alp,max_iter= 500,learning_rate_init= 0.001,'+\n",
    "         'verbose= True, early_stopping= True, validation_fraction= 0.3, tol= 0.0001\\n')\n",
    "fo.close()\n",
    "\n",
    "hscore= 0.0\n",
    "lowestsc= 0.0\n",
    "bestA= 0\n",
    "\n",
    "for i in range(len(a)):\n",
    "    score, vect, matrix= evaluateModel(a[i])\n",
    "    fo = open( filename , 'a' )\n",
    "    fo.write('\\n')\n",
    "    fo.write('For '+ str(a[i])+'\\n')\n",
    "    fo.write('Avg score '+ str(score)+'\\n')\n",
    "    fo.write('Score ' +str(vect)+'\\n')\n",
    "    fo.write('Conf matr'+'\\n')\n",
    "    fo.write(str(matrix))\n",
    "    fo.write('\\n')\n",
    "    fo.close()\n",
    "    \n",
    "    if(score > hscore):\n",
    "        worstPred= min(vect)\n",
    "        if(worstPred > lowestsc):\n",
    "            hscore= score\n",
    "            lowestsc= worstPred\n",
    "            bestA= a[i]\n",
    "\n",
    "fo = open( filename , 'a' )\n",
    "fo.write('Best a= '+ str(bestA)+'\\n')\n",
    "fo.write('Score = '+ str(hscore)+ '\\n')\n",
    "fo.write('Lowest score pred= '+ str(lowestsc)+'\\n')\n",
    "print('Best a= '+ str(bestA)+'\\n')\n",
    "print('Score = '+ str(hscore)+ '\\n')\n",
    "print('Done in ' + str(time()-t0)) "
   ]
  },
  {
   "cell_type": "code",
   "execution_count": 35,
   "metadata": {
    "collapsed": false
   },
   "outputs": [
    {
     "name": "stdout",
     "output_type": "stream",
     "text": [
      "(774, 1850)\n",
      "(966, 1850)\n",
      "[[  0  51]\n",
      " [  1 183]\n",
      " [  2  85]\n",
      " [  3 395]\n",
      " [  4  86]\n",
      " [  5  60]\n",
      " [  6 106]]\n",
      "[[  0 132]\n",
      " [  1 136]\n",
      " [  2  57]\n",
      " [  3 277]\n",
      " [  4  62]\n",
      " [  5  44]\n",
      " [  6  66]]\n"
     ]
    }
   ],
   "source": [
    "#run\n",
    "xin= np.load(\"./X_train.npy\")\n",
    "yin= np.load(\"./y_train.npy\")\n",
    "x= xin\n",
    "y= yin\n",
    "ovr= 1\n",
    "kind= 'svm'\n",
    "x_train, x_test, y_train, y_test = train_test_split(\n",
    "    x, y, test_size=0.3, random_state=0)\n",
    "for _ in range(ovr):\n",
    "    x_train,y_train = overSampling(x_train, y_train, kind)\n",
    "print(x_train.shape)\n",
    "print(x.shape)\n",
    "print(itemfreq(yin))\n",
    "print(itemfreq(y_train))\n",
    "\n",
    "x_train= normalize(x_train)\n",
    "x_test= normalize(x_test)"
   ]
  },
  {
   "cell_type": "code",
   "execution_count": 37,
   "metadata": {
    "collapsed": false
   },
   "outputs": [
    {
     "name": "stdout",
     "output_type": "stream",
     "text": [
      "Best a= 2\n",
      "\n",
      "Score = 0.798967148967\n",
      "\n",
      "Done in 3580.19926738739\n"
     ]
    }
   ],
   "source": [
    "i = datetime.datetime.now()\n",
    "tm= str(i.year) + '-' + str(i.month) + '-' + str(i.day) + '_' + str(i.hour) + '-' + str(i.minute)\n",
    "filename = 'search'+ tm + 'ovr' + str(ovr)+'kind'+ kind +'.txt'\n",
    "a= [1, 2, 3, 4, 5, 10, 20, 25, 30, 40]\n",
    "t0= time()\n",
    "\n",
    "fo = open( filename , 'w' )\n",
    "fo.write(str(a))\n",
    "fo.write('\\n')\n",
    "fo.write('hidden_layer_sizes=(1851, 400,), activation= tanh, solver= lbfgs,'+\n",
    "         'alpha= alp,max_iter= 500,learning_rate_init= 0.001,'+\n",
    "         'verbose= True, early_stopping= True, validation_fraction= 0.3, tol= 0.0001\\n')\n",
    "fo.close()\n",
    "\n",
    "hscore= 0.0\n",
    "lowestsc= 0.0\n",
    "bestA= 0\n",
    "\n",
    "for i in range(len(a)):\n",
    "    score, vect, matrix= evaluateModel(a[i])\n",
    "    fo = open( filename , 'a' )\n",
    "    fo.write('\\n')\n",
    "    fo.write('For '+ str(a[i])+'\\n')\n",
    "    fo.write('Avg score '+ str(score)+'\\n')\n",
    "    fo.write('Score ' +str(vect)+'\\n')\n",
    "    fo.write('Conf matr'+'\\n')\n",
    "    fo.write(str(matrix))\n",
    "    fo.write('\\n')\n",
    "    fo.close()\n",
    "    \n",
    "    if(score > hscore):\n",
    "        worstPred= min(vect)\n",
    "        if(worstPred > lowestsc):\n",
    "            hscore= score\n",
    "            lowestsc= worstPred\n",
    "            bestA= a[i]\n",
    "\n",
    "fo = open( filename , 'a' )\n",
    "fo.write('Best a= '+ str(bestA)+'\\n')\n",
    "fo.write('Score = '+ str(hscore)+ '\\n')\n",
    "fo.write('Lowest score pred= '+ str(lowestsc)+'\\n')\n",
    "print('Best a= '+ str(bestA)+'\\n')\n",
    "print('Score = '+ str(hscore)+ '\\n')\n",
    "print('Done in ' + str(time()-t0)) "
   ]
  },
  {
   "cell_type": "code",
   "execution_count": 26,
   "metadata": {
    "collapsed": false
   },
   "outputs": [
    {
     "name": "stdout",
     "output_type": "stream",
     "text": [
      "(919, 1850)\n",
      "(966, 1850)\n",
      "[[  0  51]\n",
      " [  1 183]\n",
      " [  2  85]\n",
      " [  3 395]\n",
      " [  4  86]\n",
      " [  5  60]\n",
      " [  6 106]]\n",
      "[[  0 277]\n",
      " [  1 136]\n",
      " [  2  57]\n",
      " [  3 277]\n",
      " [  4  62]\n",
      " [  5  44]\n",
      " [  6  66]]\n"
     ]
    }
   ],
   "source": [
    "#run\n",
    "xin= np.load(\"./X_train.npy\")\n",
    "yin= np.load(\"./y_train.npy\")\n",
    "x= xin\n",
    "y= yin\n",
    "ovr= 1\n",
    "kind= 'regular'\n",
    "x_train, x_test, y_train, y_test = train_test_split(\n",
    "    x, y, test_size=0.3, random_state=0)\n",
    "for _ in range(ovr):\n",
    "    x_train,y_train = overSampling(x_train, y_train, kind)\n",
    "print(x_train.shape)\n",
    "print(x.shape)\n",
    "print(itemfreq(yin))\n",
    "print(itemfreq(y_train))\n",
    "\n",
    "x_train= normalize(x_train)\n",
    "x_test= normalize(x_test)"
   ]
  },
  {
   "cell_type": "code",
   "execution_count": 27,
   "metadata": {
    "collapsed": false
   },
   "outputs": [
    {
     "name": "stdout",
     "output_type": "stream",
     "text": [
      "Best a= 1\n",
      "\n",
      "Score = 0.770223763152\n",
      "\n",
      "Done in 3217.8591463565826\n"
     ]
    }
   ],
   "source": [
    "i = datetime.datetime.now()\n",
    "tm= str(i.year) + '-' + str(i.month) + '-' + str(i.day) + '_' + str(i.hour) + '-' + str(i.minute)\n",
    "filename = 'search'+ tm + 'ovr' + str(ovr)+'kind'+ kind +'.txt'\n",
    "a= [1, 2, 3, 4, 5, 10, 11, 12, 15, 20, 30, 40, 50]\n",
    "t0= time()\n",
    "\n",
    "fo = open( filename , 'w' )\n",
    "fo.write(str(a))\n",
    "fo.write('\\n')\n",
    "fo.write('hidden_layer_sizes=(1851, 400,), activation= tanh, solver= lbfgs,'+\n",
    "         'alpha= alp,max_iter= 500,learning_rate_init= 0.001,'+\n",
    "         'verbose= True, early_stopping= True, validation_fraction= 0.3, tol= 0.0001\\n')\n",
    "fo.close()\n",
    "\n",
    "hscore= 0.0\n",
    "lowestsc= 0.0\n",
    "bestA= 0\n",
    "\n",
    "for i in range(len(a)):\n",
    "    score, vect, matrix= evaluateModel(a[i])\n",
    "    fo = open( filename , 'a' )\n",
    "    fo.write('\\n')\n",
    "    fo.write('For '+ str(a[i])+'\\n')\n",
    "    fo.write('Avg score '+ str(score)+'\\n')\n",
    "    fo.write('Score ' +str(vect)+'\\n')\n",
    "    fo.write('Conf matr'+'\\n')\n",
    "    fo.write(str(matrix))\n",
    "    fo.write('\\n')\n",
    "    fo.close()\n",
    "    \n",
    "    if(score > hscore):\n",
    "        worstPred= min(vect)\n",
    "        if(worstPred > lowestsc):\n",
    "            hscore= score\n",
    "            lowestsc= worstPred\n",
    "            bestA= a[i]\n",
    "\n",
    "fo = open( filename , 'a' )\n",
    "fo.write('Best a= '+ str(bestA)+'\\n')\n",
    "fo.write('Score = '+ str(hscore)+ '\\n')\n",
    "fo.write('Lowest score pred= '+ str(lowestsc)+'\\n')\n",
    "print('Best a= '+ str(bestA)+'\\n')\n",
    "print('Score = '+ str(hscore)+ '\\n')\n",
    "print('Done in ' + str(time()-t0)) "
   ]
  },
  {
   "cell_type": "code",
   "execution_count": 31,
   "metadata": {
    "collapsed": false
   },
   "outputs": [
    {
     "name": "stdout",
     "output_type": "stream",
     "text": [
      "[[ 0.37031432 -0.05454595 -0.44155552 ...,  0.58973548  0.31735689\n",
      "   0.23628113]\n",
      " [-1.08160906 -0.63766418 -1.27962613 ..., -0.38228522 -1.08551623\n",
      "  -1.03715872]\n",
      " [-0.81148381 -0.97900183 -0.77376367 ..., -0.26741008 -0.75774213\n",
      "  -1.11382065]\n",
      " ..., \n",
      " [ 0.94651168  1.43700004  1.79149133 ...,  0.33404166  0.54468195\n",
      "   0.70159836]\n",
      " [ 0.89841261  0.69474182  0.53639887 ...,  1.3510311   1.43688811\n",
      "   1.50750492]\n",
      " [ 1.0337644   1.11130688  1.3160062  ...,  0.30386132  0.51284001\n",
      "   0.67668405]]\n",
      "[  2.67468311e-16  -1.06310801e-17  -1.28056192e-17 ...,   1.69130820e-17\n",
      "  -3.62423185e-18  -7.12765598e-18]\n"
     ]
    }
   ],
   "source": []
  },
  {
   "cell_type": "code",
   "execution_count": 5,
   "metadata": {
    "collapsed": false
   },
   "outputs": [
    {
     "data": {
      "text/plain": [
       "MLPClassifier(activation='tanh', alpha=1, batch_size='auto', beta_1=0.9,\n",
       "       beta_2=0.999, early_stopping=True, epsilon=1e-08,\n",
       "       hidden_layer_sizes=(1851, 400), learning_rate='constant',\n",
       "       learning_rate_init=0.001, max_iter=500, momentum=0.9,\n",
       "       nesterovs_momentum=True, power_t=0.5, random_state=None,\n",
       "       shuffle=True, solver='lbfgs', tol=0.0001, validation_fraction=0.3,\n",
       "       verbose=True, warm_start=False)"
      ]
     },
     "execution_count": 5,
     "metadata": {},
     "output_type": "execute_result"
    }
   ],
   "source": []
  },
  {
   "cell_type": "code",
   "execution_count": 6,
   "metadata": {
    "collapsed": true
   },
   "outputs": [],
   "source": []
  },
  {
   "cell_type": "code",
   "execution_count": null,
   "metadata": {
    "collapsed": true
   },
   "outputs": [],
   "source": [
    "#Score on Kaggle achived: 0.82609 "
   ]
  }
 ],
 "metadata": {
  "anaconda-cloud": {},
  "kernelspec": {
   "display_name": "Python [conda root]",
   "language": "python",
   "name": "conda-root-py"
  },
  "language_info": {
   "codemirror_mode": {
    "name": "ipython",
    "version": 3
   },
   "file_extension": ".py",
   "mimetype": "text/x-python",
   "name": "python",
   "nbconvert_exporter": "python",
   "pygments_lexer": "ipython3",
   "version": "3.5.2"
  }
 },
 "nbformat": 4,
 "nbformat_minor": 1
}

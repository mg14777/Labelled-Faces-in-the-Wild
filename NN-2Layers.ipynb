{
 "cells": [
  {
   "cell_type": "code",
   "execution_count": 6,
   "metadata": {
    "collapsed": false
   },
   "outputs": [],
   "source": [
    "import numpy as np\n",
    "import matplotlib.pyplot as pl\n",
    "import pandas as pd \n",
    "from sklearn import preprocessing\n",
    "from sklearn.neural_network import MLPClassifier\n",
    "from sklearn.metrics import f1_score\n",
    "from sklearn.model_selection import StratifiedKFold\n",
    "from sklearn.metrics import confusion_matrix\n",
    "from time import time"
   ]
  },
  {
   "cell_type": "code",
   "execution_count": 7,
   "metadata": {
    "collapsed": true
   },
   "outputs": [],
   "source": [
    "xin= np.load(\"./X_train.npy\")\n",
    "yin= np.load(\"./y_train.npy\")\n",
    "xout= np.load(\"./X_test.npy\")"
   ]
  },
  {
   "cell_type": "code",
   "execution_count": 8,
   "metadata": {
    "collapsed": false
   },
   "outputs": [
    {
     "name": "stdout",
     "output_type": "stream",
     "text": [
      "[[ 6  2  0  2  0  0  1]\n",
      " [ 0 31  2  0  0  2  2]\n",
      " [ 0  1 14  1  1  0  0]\n",
      " [ 1  2  2 70  2  1  1]\n",
      " [ 0  0  0  1 14  2  1]\n",
      " [ 0  1  0  1  1  9  0]\n",
      " [ 0  0  0  4  0  0 18]]\n",
      "[ 0.66666667  0.83783784  0.8         0.88607595  0.77777778  0.69230769\n",
      "  0.8       ]\n",
      "[[ 9  1  0  0  0  0  0]\n",
      " [ 1 32  1  3  0  0  0]\n",
      " [ 0  2 12  3  0  0  0]\n",
      " [ 1  1  4 70  1  0  2]\n",
      " [ 0  1  2  1 11  0  2]\n",
      " [ 0  0  0  1  0 10  1]\n",
      " [ 0  1  1  0  0  0 19]]\n",
      "[ 0.85714286  0.85333333  0.64864865  0.89171975  0.75862069  0.90909091\n",
      "  0.84444444]\n",
      "[[ 7  1  1  1  0  0  0]\n",
      " [ 1 33  0  1  0  1  1]\n",
      " [ 0  2 12  3  0  0  0]\n",
      " [ 0  1  1 77  0  0  0]\n",
      " [ 0  0  0  3 11  1  2]\n",
      " [ 0  1  0  3  3  5  0]\n",
      " [ 0  2  0  1  4  0 14]]\n",
      "[ 0.77777778  0.85714286  0.77419355  0.91666667  0.62857143  0.52631579\n",
      "  0.73684211]\n",
      "[[ 5  3  1  1  0  0  0]\n",
      " [ 1 29  0  5  1  0  0]\n",
      " [ 0  1 16  0  0  0  0]\n",
      " [ 0  0  1 72  3  0  3]\n",
      " [ 0  0  0  1 14  0  2]\n",
      " [ 0  0  0  0  1 11  0]\n",
      " [ 0  0  2  2  1  0 16]]\n",
      "[ 0.625       0.84057971  0.86486486  0.9         0.75675676  0.95652174\n",
      "  0.76190476]\n",
      "[[ 7  1  2  0  0  0  0]\n",
      " [ 2 32  1  1  0  0  0]\n",
      " [ 0  0 12  4  1  0  0]\n",
      " [ 0  2  4 71  0  1  1]\n",
      " [ 0  0  0  3 13  1  0]\n",
      " [ 0  0  0  1  0 11  0]\n",
      " [ 0  1  0  3  0  0 17]]\n",
      "[ 0.73684211  0.88888889  0.66666667  0.87654321  0.83870968  0.88\n",
      "  0.87179487]\n"
     ]
    }
   ],
   "source": [
    "def svmPredict(model,xin,yin):\n",
    "    ypredict= model.predict(xin)\n",
    "    score= f1_score(yin , ypredict, average='weighted')\n",
    "    print(confusion_matrix(yin, ypredict))\n",
    "    print(f1_score(yin, ypredict, average=None))\n",
    "    return score\n",
    "\n",
    "nn = MLPClassifier(hidden_layer_sizes=(1851, 150),\n",
    "                   activation='logistic', \n",
    "                   solver='lbfgs', \n",
    "                   alpha=2, \n",
    "                   verbose=True,\n",
    "                   learning_rate_init=0.001,\n",
    "                   max_iter= 2000\n",
    "                  )\n",
    "\n",
    "skf = StratifiedKFold(n_splits=5)\n",
    "\n",
    "for train, test in skf.split(xin, yin):\n",
    "    nn.fit(xin[train],yin[train])\n",
    "    svmPredict(nn, xin[test], yin[test])\n",
    "    "
   ]
  }
 ],
 "metadata": {
  "anaconda-cloud": {},
  "kernelspec": {
   "display_name": "Python [conda root]",
   "language": "python",
   "name": "conda-root-py"
  },
  "language_info": {
   "codemirror_mode": {
    "name": "ipython",
    "version": 3
   },
   "file_extension": ".py",
   "mimetype": "text/x-python",
   "name": "python",
   "nbconvert_exporter": "python",
   "pygments_lexer": "ipython3",
   "version": "3.5.2"
  }
 },
 "nbformat": 4,
 "nbformat_minor": 1
}
